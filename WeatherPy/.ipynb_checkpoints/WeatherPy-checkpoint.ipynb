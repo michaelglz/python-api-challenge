{
 "cells": [
  {
   "cell_type": "markdown",
   "metadata": {},
   "source": [
    "# WeatherPy\n",
    "----\n",
    "\n",
    "#### Note\n",
    "* Instructions have been included for each segment. You do not have to follow them exactly, but they are included to help you think through the steps."
   ]
  },
  {
   "cell_type": "code",
   "execution_count": 1,
   "metadata": {
    "scrolled": true
   },
   "outputs": [],
   "source": [
    "# Dependencies and Setup\n",
    "import matplotlib.pyplot as plt\n",
    "import pandas as pd\n",
    "import numpy as np\n",
    "import requests\n",
    "import time\n",
    "from scipy.stats import linregress\n",
    "\n",
    "# Import API key\n",
    "from api_keys import weather_api_key\n",
    "\n",
    "# Incorporated citipy to determine city based on latitude and longitude\n",
    "from citipy import citipy\n",
    "\n",
    "# Output File (CSV)\n",
    "output_data_file = \"output_data/cities.csv\"\n",
    "\n",
    "# Range of latitudes and longitudes\n",
    "lat_range = (-90, 90)\n",
    "lng_range = (-180, 180)"
   ]
  },
  {
   "cell_type": "markdown",
   "metadata": {},
   "source": [
    "## Generate Cities List"
   ]
  },
  {
   "cell_type": "code",
   "execution_count": 2,
   "metadata": {},
   "outputs": [
    {
     "data": {
      "text/plain": [
       "582"
      ]
     },
     "execution_count": 2,
     "metadata": {},
     "output_type": "execute_result"
    }
   ],
   "source": [
    "# List for holding lat_lngs and cities\n",
    "lat_lngs = []\n",
    "cities = []\n",
    "\n",
    "# Create a set of random lat and lng combinations\n",
    "lats = np.random.uniform(low=-90.000, high=90.000, size=1500)\n",
    "lngs = np.random.uniform(low=-180.000, high=180.000, size=1500)\n",
    "lat_lngs = zip(lats, lngs)\n",
    "\n",
    "# Identify nearest city for each lat, lng combination\n",
    "for lat_lng in lat_lngs:\n",
    "    city = citipy.nearest_city(lat_lng[0], lat_lng[1]).city_name\n",
    "    \n",
    "    # If the city is unique, then add it to a our cities list\n",
    "    if city not in cities:\n",
    "        cities.append(city)\n",
    "\n",
    "# Print the city count to confirm sufficient count\n",
    "len(cities)"
   ]
  },
  {
   "cell_type": "markdown",
   "metadata": {},
   "source": [
    "### Perform API Calls\n",
    "* Perform a weather check on each city using a series of successive API calls.\n",
    "* Include a print log of each city as it'sbeing processed (with the city number and city name).\n"
   ]
  },
  {
   "cell_type": "code",
   "execution_count": 3,
   "metadata": {
    "scrolled": false
   },
   "outputs": [],
   "source": [
    "# Starting URL for Weather Map API Call\n",
    "url = \"http://api.openweathermap.org/data/2.5/weather?units=Imperial&APPID=\" + weather_api_key "
   ]
  },
  {
   "cell_type": "code",
   "execution_count": 12,
   "metadata": {},
   "outputs": [
    {
     "data": {
      "text/plain": [
       "'7e78c810a86ff9ffe4ed443e1e066aea'"
      ]
     },
     "execution_count": 12,
     "metadata": {},
     "output_type": "execute_result"
    }
   ],
   "source": [
    "weather_api_key"
   ]
  },
  {
   "cell_type": "code",
   "execution_count": null,
   "metadata": {},
   "outputs": [],
   "source": [
    "api.openweathermap.org/data/2.5/weather?&APPID=7e78c810a86ff9ffe4ed443e1e066aea&q=London"
   ]
  },
  {
   "cell_type": "code",
   "execution_count": 4,
   "metadata": {
    "scrolled": false
   },
   "outputs": [
    {
     "name": "stdout",
     "output_type": "stream",
     "text": [
      "Beginning Data Retrieval\n",
      "-----------------------------\n",
      "Processing Record 1 of Set 1 | Dwarka\n",
      "Processing Record 2 of Set 1 | Punta Arenas\n",
      "Processing Record 3 of Set 1 | New Norfolk\n",
      "Processing Record 4 of Set 1 | Semnan\n",
      "Processing Record 5 of Set 1 | Puerto Ayora\n",
      "Processing Record 6 of Set 1 | Atuona\n",
      "City not found. Gon skip this b\n",
      "Processing Record 7 of Set 1 | Butaritari\n",
      "Processing Record 8 of Set 1 | Rosendal\n",
      "Processing Record 9 of Set 1 | Strezhevoy\n",
      "Processing Record 10 of Set 1 | Brigantine\n",
      "Processing Record 11 of Set 1 | Ponta do Sol\n",
      "Processing Record 12 of Set 1 | Ushuaia\n",
      "Processing Record 13 of Set 1 | Hobart\n",
      "City not found. Gon skip this b\n",
      "Processing Record 14 of Set 1 | Mount Isa\n",
      "Processing Record 15 of Set 1 | Sur\n",
      "Processing Record 16 of Set 1 | Mar del Plata\n",
      "Processing Record 17 of Set 1 | Dikson\n",
      "Processing Record 18 of Set 1 | George Town\n",
      "Processing Record 19 of Set 1 | Hermanus\n",
      "Processing Record 20 of Set 1 | Talcahuano\n",
      "Processing Record 21 of Set 1 | Jasper\n",
      "Processing Record 22 of Set 1 | Vostok\n",
      "Processing Record 23 of Set 1 | Filingue\n",
      "Processing Record 24 of Set 1 | Cabo San Lucas\n",
      "Processing Record 25 of Set 1 | Saldanha\n",
      "Processing Record 26 of Set 1 | East London\n",
      "Processing Record 27 of Set 1 | Vaini\n",
      "Processing Record 28 of Set 1 | Port Lincoln\n",
      "Processing Record 29 of Set 1 | South Lake Tahoe\n",
      "Processing Record 30 of Set 1 | Beringovskiy\n",
      "Processing Record 31 of Set 1 | Salalah\n",
      "Processing Record 32 of Set 1 | Rikitea\n",
      "City not found. Gon skip this b\n",
      "Processing Record 33 of Set 1 | Qaanaaq\n",
      "Processing Record 34 of Set 1 | Sinnamary\n",
      "Processing Record 35 of Set 1 | Jos\n",
      "City not found. Gon skip this b\n",
      "Processing Record 36 of Set 1 | Rosetta\n",
      "Processing Record 37 of Set 1 | Kapaa\n",
      "Processing Record 38 of Set 1 | Khatanga\n",
      "City not found. Gon skip this b\n",
      "Processing Record 39 of Set 1 | Bundaberg\n",
      "Processing Record 40 of Set 1 | Barrow\n",
      "Processing Record 41 of Set 1 | High Prairie\n",
      "Processing Record 42 of Set 1 | Fort Nelson\n",
      "Processing Record 43 of Set 1 | Avera\n",
      "City not found. Gon skip this b\n",
      "Processing Record 44 of Set 1 | Tetiz\n",
      "Processing Record 0 of Set 2 | Little Baguio\n",
      "Processing Record 1 of Set 2 | San Patricio\n",
      "Processing Record 2 of Set 2 | Salinopolis\n",
      "Processing Record 3 of Set 2 | Mount Gambier\n",
      "Processing Record 4 of Set 2 | Fayaoue\n",
      "Processing Record 5 of Set 2 | Albany\n",
      "Processing Record 6 of Set 2 | Bumba\n",
      "Processing Record 7 of Set 2 | Sao Filipe\n",
      "Processing Record 8 of Set 2 | Ilulissat\n",
      "Processing Record 9 of Set 2 | Sibolga\n",
      "City not found. Gon skip this b\n",
      "Processing Record 10 of Set 2 | Bluff\n",
      "City not found. Gon skip this b\n",
      "Processing Record 11 of Set 2 | Meulaboh\n",
      "Processing Record 12 of Set 2 | Pitimbu\n",
      "Processing Record 13 of Set 2 | Lexington\n",
      "Processing Record 14 of Set 2 | Bukama\n",
      "Processing Record 15 of Set 2 | Khovd\n",
      "Processing Record 16 of Set 2 | Velikiy Ustyug\n",
      "Processing Record 17 of Set 2 | Boa Vista\n",
      "Processing Record 18 of Set 2 | Provideniya\n",
      "Processing Record 19 of Set 2 | Svetlaya\n",
      "Processing Record 20 of Set 2 | Bathsheba\n",
      "Processing Record 21 of Set 2 | Tshikapa\n",
      "Processing Record 22 of Set 2 | Tasiilaq\n",
      "Processing Record 23 of Set 2 | Mariehamn\n",
      "Processing Record 24 of Set 2 | Conceicao do Mato Dentro\n",
      "Processing Record 25 of Set 2 | Jamestown\n",
      "Processing Record 26 of Set 2 | Bitung\n",
      "City not found. Gon skip this b\n",
      "Processing Record 27 of Set 2 | Port Elizabeth\n",
      "Processing Record 28 of Set 2 | Zhezkazgan\n",
      "Processing Record 29 of Set 2 | Te Anau\n",
      "Processing Record 30 of Set 2 | Capreol\n",
      "City not found. Gon skip this b\n",
      "Processing Record 31 of Set 2 | Bredasdorp\n",
      "Processing Record 32 of Set 2 | Mataura\n",
      "Processing Record 33 of Set 2 | Nemuro\n",
      "Processing Record 34 of Set 2 | Port Alfred\n",
      "Processing Record 35 of Set 2 | Bage\n",
      "City not found. Gon skip this b\n",
      "Processing Record 36 of Set 2 | Dingle\n",
      "Processing Record 37 of Set 2 | Lavrentiya\n",
      "City not found. Gon skip this b\n",
      "Processing Record 38 of Set 2 | Gorele\n",
      "Processing Record 39 of Set 2 | Hong Kong\n",
      "Processing Record 40 of Set 2 | Busselton\n",
      "Processing Record 41 of Set 2 | Lagoa\n",
      "Processing Record 42 of Set 2 | Carnarvon\n",
      "Processing Record 43 of Set 2 | Prince Rupert\n",
      "Processing Record 0 of Set 3 | Scarborough\n",
      "Processing Record 1 of Set 3 | Miranda\n",
      "Processing Record 2 of Set 3 | Visby\n",
      "Processing Record 3 of Set 3 | Benito Juarez\n",
      "Processing Record 4 of Set 3 | Srednekolymsk\n",
      "Processing Record 5 of Set 3 | Sabha\n",
      "Processing Record 6 of Set 3 | Tuktoyaktuk\n",
      "Processing Record 7 of Set 3 | Lebu\n",
      "Processing Record 8 of Set 3 | Bethel\n",
      "Processing Record 9 of Set 3 | Fortuna\n",
      "Processing Record 10 of Set 3 | Magistralnyy\n",
      "Processing Record 11 of Set 3 | Port Said\n",
      "City not found. Gon skip this b\n",
      "Processing Record 12 of Set 3 | Abu Samrah\n",
      "Processing Record 13 of Set 3 | Melnikovo\n",
      "Processing Record 14 of Set 3 | Arraial do Cabo\n",
      "Processing Record 15 of Set 3 | Yellowknife\n",
      "Processing Record 16 of Set 3 | Sangar\n",
      "Processing Record 17 of Set 3 | Kodiak\n",
      "City not found. Gon skip this b\n",
      "Processing Record 18 of Set 3 | Husavik\n",
      "Processing Record 19 of Set 3 | Karratha\n",
      "Processing Record 20 of Set 3 | Mahebourg\n",
      "Processing Record 21 of Set 3 | Naze\n",
      "City not found. Gon skip this b\n",
      "City not found. Gon skip this b\n",
      "Processing Record 22 of Set 3 | Aykhal\n",
      "Processing Record 23 of Set 3 | Ixtapa\n",
      "Processing Record 24 of Set 3 | Kaitangata\n",
      "Processing Record 25 of Set 3 | Aberdeen\n",
      "Processing Record 26 of Set 3 | Shimoda\n",
      "Processing Record 27 of Set 3 | Shelburne\n",
      "Processing Record 28 of Set 3 | Tiznit\n",
      "Processing Record 29 of Set 3 | Baoding\n",
      "City not found. Gon skip this b\n",
      "Processing Record 30 of Set 3 | Aklavik\n",
      "Processing Record 31 of Set 3 | Kurskaya\n",
      "Processing Record 32 of Set 3 | Egvekinot\n",
      "Processing Record 33 of Set 3 | Mirny\n",
      "Processing Record 34 of Set 3 | Chokurdakh\n",
      "Processing Record 35 of Set 3 | Nur\n",
      "Processing Record 36 of Set 3 | Kloulklubed\n",
      "Processing Record 37 of Set 3 | Ribeira Grande\n",
      "Processing Record 38 of Set 3 | Karpogory\n",
      "Processing Record 39 of Set 3 | Grindavik\n",
      "Processing Record 40 of Set 3 | Hithadhoo\n",
      "City not found. Gon skip this b\n",
      "Processing Record 41 of Set 3 | Tulun\n",
      "Processing Record 42 of Set 3 | Saint-Philippe\n",
      "Processing Record 43 of Set 3 | Lorengau\n",
      "Processing Record 0 of Set 4 | Oranjemund\n",
      "Processing Record 1 of Set 4 | San Nicolas\n",
      "Processing Record 2 of Set 4 | Kruisfontein\n",
      "Processing Record 3 of Set 4 | Partyzany\n",
      "Processing Record 4 of Set 4 | Satipo\n",
      "Processing Record 5 of Set 4 | Port Townsend\n",
      "Processing Record 6 of Set 4 | Margate\n",
      "Processing Record 7 of Set 4 | Praia da Vitoria\n",
      "Processing Record 8 of Set 4 | Lata\n",
      "City not found. Gon skip this b\n",
      "Processing Record 9 of Set 4 | Iguape\n",
      "Processing Record 10 of Set 4 | Pasni\n",
      "Processing Record 11 of Set 4 | Caravelas\n",
      "Processing Record 12 of Set 4 | Adjumani\n",
      "Processing Record 13 of Set 4 | Walvis Bay\n",
      "Processing Record 14 of Set 4 | Pouembout\n",
      "Processing Record 15 of Set 4 | Kelowna\n",
      "Processing Record 16 of Set 4 | Chui\n",
      "Processing Record 17 of Set 4 | Torbay\n",
      "Processing Record 18 of Set 4 | Den Helder\n",
      "City not found. Gon skip this b\n",
      "Processing Record 19 of Set 4 | Ancud\n",
      "Processing Record 20 of Set 4 | Nizhniy Kuranakh\n",
      "Processing Record 21 of Set 4 | Cape Town\n",
      "Processing Record 22 of Set 4 | Kawhia\n",
      "Processing Record 23 of Set 4 | Hobyo\n",
      "Processing Record 24 of Set 4 | Longyearbyen\n",
      "Processing Record 25 of Set 4 | Kushiro\n",
      "Processing Record 26 of Set 4 | Beloha\n",
      "Processing Record 27 of Set 4 | Necochea\n",
      "Processing Record 28 of Set 4 | Alihe\n",
      "Processing Record 29 of Set 4 | Deputatsky\n",
      "Processing Record 30 of Set 4 | Opuwo\n",
      "Processing Record 31 of Set 4 | Harper\n",
      "Processing Record 32 of Set 4 | Nara\n",
      "Processing Record 33 of Set 4 | Nome\n",
      "Processing Record 34 of Set 4 | Bouca\n",
      "Processing Record 35 of Set 4 | Stornoway\n",
      "Processing Record 36 of Set 4 | Upernavik\n",
      "Processing Record 37 of Set 4 | Pavlodar\n",
      "Processing Record 38 of Set 4 | Vila Franca do Campo\n",
      "Processing Record 39 of Set 4 | Manaus\n",
      "Processing Record 40 of Set 4 | Half Moon Bay\n",
      "City not found. Gon skip this b\n",
      "Processing Record 41 of Set 4 | Grand-Santi\n",
      "Processing Record 42 of Set 4 | Fare\n",
      "Processing Record 43 of Set 4 | Mogadishu\n",
      "Processing Record 44 of Set 4 | Havre-Saint-Pierre\n",
      "Processing Record 45 of Set 4 | Kihei\n",
      "Processing Record 46 of Set 4 | Hinche\n",
      "Processing Record 0 of Set 5 | Labrea\n",
      "City not found. Gon skip this b\n",
      "Processing Record 1 of Set 5 | Awjilah\n"
     ]
    },
    {
     "name": "stdout",
     "output_type": "stream",
     "text": [
      "Processing Record 2 of Set 5 | Hilo\n",
      "Processing Record 3 of Set 5 | Korla\n",
      "Processing Record 4 of Set 5 | Yenagoa\n",
      "Processing Record 5 of Set 5 | Vao\n",
      "Processing Record 6 of Set 5 | Simao\n",
      "City not found. Gon skip this b\n",
      "Processing Record 7 of Set 5 | Codrington\n",
      "Processing Record 8 of Set 5 | Dunedin\n",
      "Processing Record 9 of Set 5 | Norman Wells\n",
      "Processing Record 10 of Set 5 | Nikolskoye\n",
      "Processing Record 11 of Set 5 | Ahipara\n",
      "Processing Record 12 of Set 5 | Cidreira\n",
      "City not found. Gon skip this b\n",
      "Processing Record 13 of Set 5 | Corralillo\n",
      "City not found. Gon skip this b\n",
      "Processing Record 14 of Set 5 | Hambantota\n",
      "Processing Record 15 of Set 5 | Sampit\n",
      "Processing Record 16 of Set 5 | Visnes\n",
      "Processing Record 17 of Set 5 | Bonnyville\n",
      "City not found. Gon skip this b\n",
      "Processing Record 18 of Set 5 | Benghazi\n",
      "Processing Record 19 of Set 5 | Souillac\n",
      "City not found. Gon skip this b\n",
      "City not found. Gon skip this b\n",
      "Processing Record 20 of Set 5 | Qasigiannguit\n",
      "Processing Record 21 of Set 5 | Hervey Bay\n",
      "Processing Record 22 of Set 5 | Komsomolets\n",
      "Processing Record 23 of Set 5 | Thompson\n",
      "Processing Record 24 of Set 5 | Kavaratti\n",
      "Processing Record 25 of Set 5 | Rio Gallegos\n",
      "Processing Record 26 of Set 5 | Okha\n",
      "Processing Record 27 of Set 5 | Iqaluit\n",
      "Processing Record 28 of Set 5 | Innisfail\n",
      "Processing Record 29 of Set 5 | Departamento de Maldonado\n",
      "Processing Record 30 of Set 5 | Mossamedes\n",
      "Processing Record 31 of Set 5 | Mersa Matruh\n",
      "Processing Record 32 of Set 5 | Luderitz\n",
      "Processing Record 33 of Set 5 | Cravo Norte\n",
      "Processing Record 34 of Set 5 | Katsuura\n",
      "Processing Record 35 of Set 5 | Ebeltoft\n",
      "Processing Record 36 of Set 5 | Clyde River\n",
      "Processing Record 37 of Set 5 | Faya\n",
      "Processing Record 38 of Set 5 | San Cristobal\n",
      "Processing Record 39 of Set 5 | Taoudenni\n",
      "Processing Record 40 of Set 5 | Avarua\n",
      "Processing Record 41 of Set 5 | Freeport\n",
      "Processing Record 42 of Set 5 | Castro\n",
      "Processing Record 0 of Set 6 | Tuatapere\n",
      "Processing Record 1 of Set 6 | Celina\n",
      "Processing Record 2 of Set 6 | Klaksvik\n",
      "Processing Record 3 of Set 6 | Tessalit\n",
      "Processing Record 4 of Set 6 | Atar\n",
      "Processing Record 5 of Set 6 | Isangel\n",
      "Processing Record 6 of Set 6 | Casablanca\n",
      "Processing Record 7 of Set 6 | Gamba\n",
      "Processing Record 8 of Set 6 | Los Llanos de Aridane\n",
      "Processing Record 9 of Set 6 | Bandarbeyla\n",
      "Processing Record 10 of Set 6 | Villa Carlos Paz\n",
      "Processing Record 11 of Set 6 | Mon\n",
      "Processing Record 12 of Set 6 | Soverato Marina\n",
      "City not found. Gon skip this b\n",
      "Processing Record 13 of Set 6 | Palmer\n",
      "Processing Record 14 of Set 6 | Ust-Kuyga\n",
      "Processing Record 15 of Set 6 | Khani\n",
      "Processing Record 16 of Set 6 | Laas\n",
      "Processing Record 17 of Set 6 | Gajendragarh\n",
      "Processing Record 18 of Set 6 | Vawkavysk\n",
      "Processing Record 19 of Set 6 | Cherskiy\n",
      "Processing Record 20 of Set 6 | Gambela\n",
      "Processing Record 21 of Set 6 | Fairbanks\n",
      "Processing Record 22 of Set 6 | Sitka\n",
      "Processing Record 23 of Set 6 | Hasaki\n",
      "Processing Record 24 of Set 6 | Nata\n",
      "Processing Record 25 of Set 6 | Jawa\n",
      "Processing Record 26 of Set 6 | Maputo\n",
      "Processing Record 27 of Set 6 | Ust-Tsilma\n",
      "Processing Record 28 of Set 6 | Severo-Kuril'sk\n",
      "Processing Record 29 of Set 6 | Alofi\n",
      "Processing Record 30 of Set 6 | Upata\n",
      "Processing Record 31 of Set 6 | Sint-Katelijne-Waver\n",
      "Processing Record 32 of Set 6 | Yadgir\n",
      "Processing Record 33 of Set 6 | Chato\n",
      "Processing Record 34 of Set 6 | Ballina\n",
      "Processing Record 35 of Set 6 | Berlevag\n",
      "Processing Record 36 of Set 6 | Hit\n",
      "Processing Record 37 of Set 6 | Kamenka\n",
      "Processing Record 38 of Set 6 | Pisco\n",
      "Processing Record 39 of Set 6 | Abbeville\n",
      "Processing Record 40 of Set 6 | Vytegra\n",
      "Processing Record 41 of Set 6 | Praia\n",
      "Processing Record 42 of Set 6 | Xishan\n",
      "Processing Record 43 of Set 6 | Sovetskiy\n",
      "Processing Record 44 of Set 6 | Cap Malheureux\n",
      "Processing Record 45 of Set 6 | Christchurch\n",
      "Processing Record 46 of Set 6 | Acapulco de Juarez\n",
      "Processing Record 47 of Set 6 | Port Macquarie\n",
      "Processing Record 48 of Set 6 | Siuna\n",
      "Processing Record 0 of Set 7 | Cervo\n",
      "City not found. Gon skip this b\n",
      "Processing Record 1 of Set 7 | Wanning\n",
      "Processing Record 2 of Set 7 | Geraldton\n",
      "Processing Record 3 of Set 7 | Xining\n",
      "Processing Record 4 of Set 7 | Airai\n",
      "Processing Record 5 of Set 7 | Hingoli\n",
      "Processing Record 6 of Set 7 | Ketchikan\n",
      "Processing Record 7 of Set 7 | Talnakh\n",
      "Processing Record 8 of Set 7 | Lincoln\n",
      "City not found. Gon skip this b\n",
      "Processing Record 9 of Set 7 | Rawson\n",
      "Processing Record 10 of Set 7 | Yulara\n",
      "Processing Record 11 of Set 7 | Shar\n",
      "Processing Record 12 of Set 7 | Bonthe\n",
      "Processing Record 13 of Set 7 | Kanungu\n",
      "City not found. Gon skip this b\n",
      "Processing Record 14 of Set 7 | Leh\n",
      "Processing Record 15 of Set 7 | Dawei\n",
      "Processing Record 16 of Set 7 | Plettenberg Bay\n",
      "Processing Record 17 of Set 7 | Cairns\n",
      "Processing Record 18 of Set 7 | Urumqi\n",
      "City not found. Gon skip this b\n",
      "Processing Record 19 of Set 7 | Presidencia Roque Saenz Pena\n",
      "Processing Record 20 of Set 7 | Bilma\n",
      "Processing Record 21 of Set 7 | Kamaishi\n",
      "Processing Record 22 of Set 7 | Kropotkin\n",
      "Processing Record 23 of Set 7 | Forfar\n",
      "Processing Record 24 of Set 7 | Goleniow\n",
      "Processing Record 25 of Set 7 | Mae Ramat\n",
      "Processing Record 26 of Set 7 | Yar-Sale\n",
      "Processing Record 27 of Set 7 | Tigil\n",
      "Processing Record 28 of Set 7 | Kristianstad\n",
      "Processing Record 29 of Set 7 | Playa del Carmen\n",
      "Processing Record 30 of Set 7 | Kokopo\n",
      "Processing Record 31 of Set 7 | Saint George\n",
      "Processing Record 32 of Set 7 | Saint-Pierre\n",
      "Processing Record 33 of Set 7 | Paragominas\n",
      "Processing Record 34 of Set 7 | Terney\n",
      "Processing Record 35 of Set 7 | Entre Rios\n",
      "Processing Record 36 of Set 7 | Portland\n",
      "Processing Record 37 of Set 7 | Sutysky\n",
      "Processing Record 38 of Set 7 | Rivadavia\n",
      "Processing Record 39 of Set 7 | Totoral\n",
      "Processing Record 40 of Set 7 | Rome\n",
      "City not found. Gon skip this b\n",
      "Processing Record 41 of Set 7 | Hualmay\n",
      "Processing Record 42 of Set 7 | Payo\n",
      "Processing Record 43 of Set 7 | Olgod\n",
      "City not found. Gon skip this b\n",
      "Processing Record 0 of Set 8 | Kyshtovka\n",
      "Processing Record 1 of Set 8 | Hofn\n",
      "Processing Record 2 of Set 8 | Langxiang\n",
      "Processing Record 3 of Set 8 | Sola\n",
      "Processing Record 4 of Set 8 | Bashmakovo\n",
      "Processing Record 5 of Set 8 | Tomatlan\n",
      "Processing Record 6 of Set 8 | Rusape\n",
      "Processing Record 7 of Set 8 | Chebsara\n",
      "Processing Record 8 of Set 8 | Faanui\n",
      "Processing Record 9 of Set 8 | Coyhaique\n",
      "Processing Record 10 of Set 8 | Krasnosel'kup\n",
      "City not found. Gon skip this b\n",
      "Processing Record 11 of Set 8 | Punto Fijo\n",
      "Processing Record 12 of Set 8 | Ambon\n",
      "City not found. Gon skip this b\n",
      "Processing Record 13 of Set 8 | Kununurra\n",
      "Processing Record 14 of Set 8 | Kenai\n",
      "Processing Record 15 of Set 8 | Alacranes\n",
      "Processing Record 16 of Set 8 | Pombas\n",
      "Processing Record 17 of Set 8 | Damphu\n",
      "Processing Record 18 of Set 8 | Corinth\n",
      "Processing Record 19 of Set 8 | Goderich\n",
      "Processing Record 20 of Set 8 | Biltine\n",
      "Processing Record 21 of Set 8 | Bahia Honda\n",
      "Processing Record 22 of Set 8 | Mehamn\n",
      "Processing Record 23 of Set 8 | Altay\n",
      "Processing Record 24 of Set 8 | Udimskiy\n",
      "Processing Record 25 of Set 8 | El Alto\n",
      "Processing Record 26 of Set 8 | Kieta\n",
      "City not found. Gon skip this b\n",
      "Processing Record 27 of Set 8 | Todos Santos\n",
      "Processing Record 28 of Set 8 | Abalak\n",
      "Processing Record 29 of Set 8 | Finnsnes\n",
      "Processing Record 30 of Set 8 | Broken Hill\n",
      "Processing Record 31 of Set 8 | Mezhova\n",
      "Processing Record 32 of Set 8 | Bilibino\n",
      "Processing Record 33 of Set 8 | Luanda\n",
      "City not found. Gon skip this b\n",
      "Processing Record 34 of Set 8 | Bull Savanna\n",
      "Processing Record 35 of Set 8 | Pevek\n",
      "Processing Record 36 of Set 8 | Victor Harbor\n",
      "Processing Record 37 of Set 8 | La Ronge\n",
      "Processing Record 38 of Set 8 | Bandrele\n",
      "Processing Record 39 of Set 8 | Codajas\n",
      "City not found. Gon skip this b\n",
      "Processing Record 40 of Set 8 | Damghan\n",
      "Processing Record 41 of Set 8 | Itarema\n",
      "Processing Record 42 of Set 8 | Shangqiu\n",
      "City not found. Gon skip this b\n",
      "Processing Record 43 of Set 8 | Shakiso\n",
      "Processing Record 0 of Set 9 | Luganville\n",
      "Processing Record 1 of Set 9 | Singkang\n",
      "Processing Record 2 of Set 9 | Mackay\n",
      "Processing Record 3 of Set 9 | Shablykino\n",
      "Processing Record 4 of Set 9 | Petropavlovsk-Kamchatsky\n",
      "Processing Record 5 of Set 9 | Mikkeli\n",
      "Processing Record 6 of Set 9 | Panaba\n",
      "Processing Record 7 of Set 9 | Bambous Virieux\n"
     ]
    },
    {
     "name": "stdout",
     "output_type": "stream",
     "text": [
      "Processing Record 8 of Set 9 | Richards Bay\n",
      "Processing Record 9 of Set 9 | Tiksi\n",
      "City not found. Gon skip this b\n",
      "Processing Record 10 of Set 9 | Tautira\n",
      "Processing Record 11 of Set 9 | Nelson Bay\n",
      "Processing Record 12 of Set 9 | Sayyan\n",
      "City not found. Gon skip this b\n",
      "City not found. Gon skip this b\n",
      "Processing Record 13 of Set 9 | Esna\n",
      "Processing Record 14 of Set 9 | Esim\n",
      "Processing Record 15 of Set 9 | Hammerfest\n",
      "Processing Record 16 of Set 9 | Novaya Igirma\n",
      "Processing Record 17 of Set 9 | Boende\n",
      "Processing Record 18 of Set 9 | Takoradze\n",
      "Processing Record 19 of Set 9 | Labuhan\n",
      "Processing Record 20 of Set 9 | Rudnogorsk\n",
      "Processing Record 21 of Set 9 | Ambilobe\n",
      "Processing Record 22 of Set 9 | Sao Joao da Barra\n",
      "City not found. Gon skip this b\n",
      "Processing Record 23 of Set 9 | Yartsevo\n",
      "Processing Record 24 of Set 9 | Saint-Augustin\n",
      "Processing Record 25 of Set 9 | Pochutla\n",
      "City not found. Gon skip this b\n",
      "Processing Record 26 of Set 9 | Kizlyar\n",
      "Processing Record 27 of Set 9 | Zhigansk\n",
      "Processing Record 28 of Set 9 | Pangnirtung\n",
      "Processing Record 29 of Set 9 | Marawi\n",
      "Processing Record 30 of Set 9 | Bella Union\n",
      "Processing Record 31 of Set 9 | Japura\n",
      "Processing Record 32 of Set 9 | Boyolangu\n",
      "Processing Record 33 of Set 9 | Bengkulu\n",
      "Processing Record 34 of Set 9 | Hamilton\n",
      "Processing Record 35 of Set 9 | Grand Gaube\n",
      "Processing Record 36 of Set 9 | Anadyr\n",
      "Processing Record 37 of Set 9 | Haernoesand\n",
      "Processing Record 38 of Set 9 | Saskylakh\n",
      "Processing Record 39 of Set 9 | Tongliao\n",
      "Processing Record 40 of Set 9 | Champerico\n",
      "Processing Record 41 of Set 9 | Zambezi\n",
      "Processing Record 42 of Set 9 | Mlimba\n",
      "Processing Record 43 of Set 9 | Omboue\n",
      "Processing Record 44 of Set 9 | Muros\n",
      "Processing Record 0 of Set 10 | Port Hardy\n",
      "Processing Record 1 of Set 10 | Datong\n",
      "Processing Record 2 of Set 10 | Kaina\n",
      "Processing Record 3 of Set 10 | Isla Vista\n",
      "Processing Record 4 of Set 10 | Mbandaka\n",
      "Processing Record 5 of Set 10 | Leningradskiy\n",
      "Processing Record 6 of Set 10 | Plattling\n",
      "Processing Record 7 of Set 10 | Port Hedland\n",
      "Processing Record 8 of Set 10 | Mushie\n",
      "City not found. Gon skip this b\n",
      "Processing Record 9 of Set 10 | Millinocket\n",
      "Processing Record 10 of Set 10 | Fuerte Olimpo\n",
      "Processing Record 11 of Set 10 | Kumul\n",
      "Processing Record 12 of Set 10 | Valdivia\n",
      "City not found. Gon skip this b\n",
      "Processing Record 13 of Set 10 | Sungaipenuh\n",
      "Processing Record 14 of Set 10 | Russell\n",
      "Processing Record 15 of Set 10 | Tambun\n",
      "Processing Record 16 of Set 10 | Bom Jesus\n",
      "Processing Record 17 of Set 10 | Jhalida\n",
      "Processing Record 18 of Set 10 | Pingyin\n",
      "Processing Record 19 of Set 10 | Igarka\n",
      "Processing Record 20 of Set 10 | Rujewa\n",
      "Processing Record 21 of Set 10 | Poya\n",
      "Processing Record 22 of Set 10 | Inhambane\n",
      "Processing Record 23 of Set 10 | Troitskoye\n",
      "Processing Record 24 of Set 10 | Zhanaozen\n",
      "Processing Record 25 of Set 10 | Tank\n",
      "Processing Record 26 of Set 10 | Tura\n",
      "Processing Record 27 of Set 10 | Camacha\n",
      "Processing Record 28 of Set 10 | Bereda\n",
      "Processing Record 29 of Set 10 | Taree\n",
      "Processing Record 30 of Set 10 | Narsaq\n",
      "Processing Record 31 of Set 10 | Distrikt Brokopondo\n",
      "Processing Record 32 of Set 10 | Tual\n",
      "Processing Record 33 of Set 10 | Nehe\n",
      "Processing Record 34 of Set 10 | Araouane\n",
      "Processing Record 35 of Set 10 | Paka\n",
      "Processing Record 36 of Set 10 | Bodden Town\n",
      "Processing Record 37 of Set 10 | Corrente\n",
      "Processing Record 38 of Set 10 | Kavieng\n",
      "Processing Record 39 of Set 10 | Keelung\n",
      "Processing Record 40 of Set 10 | Kichera\n",
      "Processing Record 41 of Set 10 | Quatre Cocos\n",
      "Processing Record 42 of Set 10 | Dauriya\n",
      "Processing Record 43 of Set 10 | Gerede\n",
      "Processing Record 44 of Set 10 | Bryan\n",
      "Processing Record 45 of Set 10 | Bardiyah\n",
      "Processing Record 46 of Set 10 | Vardo\n",
      "Processing Record 47 of Set 10 | Touros\n",
      "Processing Record 0 of Set 11 | Baruun-Urt\n",
      "Processing Record 1 of Set 11 | Flinders\n",
      "Processing Record 2 of Set 11 | Hay River\n",
      "City not found. Gon skip this b\n",
      "Processing Record 3 of Set 11 | Capela do Alto\n",
      "Processing Record 4 of Set 11 | Doka\n",
      "Processing Record 5 of Set 11 | Celestun\n",
      "Processing Record 6 of Set 11 | Adrar\n",
      "Processing Record 7 of Set 11 | Eureka\n",
      "Processing Record 8 of Set 11 | Najran\n",
      "Processing Record 9 of Set 11 | Valparaiso\n",
      "Processing Record 10 of Set 11 | Milton\n",
      "Processing Record 11 of Set 11 | Nanortalik\n",
      "Processing Record 12 of Set 11 | Lompoc\n",
      "Processing Record 13 of Set 11 | General Roca\n",
      "Processing Record 14 of Set 11 | Arco\n",
      "Processing Record 15 of Set 11 | Zachepylivka\n",
      "Processing Record 16 of Set 11 | Kiryat Gat\n",
      "Processing Record 17 of Set 11 | Manggar\n",
      "Processing Record 18 of Set 11 | Rocha\n",
      "Processing Record 19 of Set 11 | Whakatane\n",
      "Processing Record 20 of Set 11 | Krivogastani\n",
      "Processing Record 21 of Set 11 | Klyuchi\n",
      "Processing Record 22 of Set 11 | Corsicana\n",
      "Processing Record 23 of Set 11 | Bintulu\n",
      "Processing Record 24 of Set 11 | Waipawa\n",
      "Processing Record 25 of Set 11 | Dakoro\n",
      "City not found. Gon skip this b\n",
      "Processing Record 26 of Set 11 | Bafq\n",
      "Processing Record 27 of Set 11 | Kattivakkam\n",
      "Processing Record 28 of Set 11 | Isiolo\n",
      "City not found. Gon skip this b\n",
      "Processing Record 29 of Set 11 | Mandalgovi\n",
      "Processing Record 30 of Set 11 | Itaituba\n",
      "Processing Record 31 of Set 11 | Chagoda\n",
      "Processing Record 32 of Set 11 | Santiago del Estero\n",
      "Processing Record 33 of Set 11 | Wad Rawah\n",
      "City not found. Gon skip this b\n",
      "Processing Record 34 of Set 11 | Saint George's\n",
      "Processing Record 35 of Set 11 | Esperance\n",
      "Processing Record 36 of Set 11 | Bismarck\n",
      "Processing Record 37 of Set 11 | Garachine\n",
      "Processing Record 38 of Set 11 | Comodoro Rivadavia\n",
      "Processing Record 39 of Set 11 | Coquimbo\n",
      "Processing Record 40 of Set 11 | Dillon\n",
      "Processing Record 41 of Set 11 | Mersing\n",
      "Processing Record 42 of Set 11 | Hell\n",
      "Processing Record 43 of Set 11 | College\n",
      "Processing Record 44 of Set 11 | Samarai\n",
      "Processing Record 45 of Set 11 | Kutulik\n",
      "Processing Record 0 of Set 12 | Mehran\n",
      "Processing Record 1 of Set 12 | Emba\n",
      "Processing Record 2 of Set 12 | Surin\n",
      "Processing Record 3 of Set 12 | Syracuse\n",
      "Processing Record 4 of Set 12 | Devonport\n",
      "Processing Record 5 of Set 12 | Leer\n",
      "Processing Record 6 of Set 12 | Turaif\n",
      "Processing Record 7 of Set 12 | Zverinogolovskoye\n",
      "Processing Record 8 of Set 12 | Yantal\n",
      "Processing Record 9 of Set 12 | Gwanda\n",
      "Processing Record 10 of Set 12 | San Angelo\n",
      "Processing Record 11 of Set 12 | Ormara\n",
      "Processing Record 12 of Set 12 | Cockburn Town\n",
      "Processing Record 13 of Set 12 | Kismayo\n",
      "Processing Record 14 of Set 12 | Kahului\n",
      "Processing Record 15 of Set 12 | Puerto Colombia\n",
      "Processing Record 16 of Set 12 | Myitkyina\n",
      "Processing Record 17 of Set 12 | Kalmunai\n",
      "Processing Record 18 of Set 12 | Werda\n",
      "Processing Record 19 of Set 12 | Mwanza\n",
      "Processing Record 20 of Set 12 | Vestmannaeyjar\n",
      "Processing Record 21 of Set 12 | Gueepsa\n",
      "Processing Record 22 of Set 12 | Aksha\n",
      "Processing Record 23 of Set 12 | Twentynine Palms\n",
      "Processing Record 24 of Set 12 | Palana\n",
      "Processing Record 25 of Set 12 | Loandjili\n",
      "Processing Record 26 of Set 12 | Iquique\n",
      "City not found. Gon skip this b\n",
      "Processing Record 27 of Set 12 | Mangoso\n",
      "Processing Record 28 of Set 12 | Ugoofaaru\n",
      "Processing Record 29 of Set 12 | Sabang\n",
      "Processing Record 30 of Set 12 | Belmonte\n",
      "-----------------------------\n",
      "Data Retrieval Complete\n",
      "-----------------------------\n"
     ]
    }
   ],
   "source": [
    "# Create empty lists to append the API data into\n",
    "city_name = []\n",
    "cloudiness = []\n",
    "country = []\n",
    "date = []\n",
    "humidity = []\n",
    "lat = []\n",
    "lng = []\n",
    "max_temp = []\n",
    "wind_speed = []\n",
    "\n",
    "# Start the call counter \n",
    "record = 1\n",
    "set_count = 1\n",
    "\n",
    "# Log file print statement\n",
    "print(f\"Beginning Data Retrieval\")\n",
    "print(f\"-----------------------------\")\n",
    "\n",
    "#Loop through the cities in the city list \n",
    "for i, city in enumerate(cities):  \n",
    "    \n",
    "    # Try statement to append calls where value is found \n",
    "    # Not all calls return data as OpenWeatherMap will not have have records in all the cities generated by CityPy module\n",
    "    try: \n",
    "        response = requests.get(f\"{url}&q={city}\").json() \n",
    "        city_name.append(response[\"name\"])\n",
    "        cloudiness.append(response[\"clouds\"][\"all\"])\n",
    "        country.append(response[\"sys\"][\"country\"])\n",
    "        date.append(response[\"dt\"])\n",
    "        humidity.append(response[\"main\"][\"humidity\"])\n",
    "        max_temp.append(response[\"main\"][\"temp_max\"])\n",
    "        lat.append(response[\"coord\"][\"lat\"])\n",
    "        lng.append(response[\"coord\"][\"lon\"])\n",
    "        wind_speed.append(response[\"wind\"][\"speed\"])\n",
    "        city_record = response[\"name\"]\n",
    "        \n",
    "        if(i%50==0 and i>=50):\n",
    "            record = 0\n",
    "            set_count+=1\n",
    "            \n",
    "        print(f\"Processing Record {record} of Set {set_count} | {city_record}\")\n",
    "        #print(f\"{url}&q={city}\")\n",
    "        \n",
    "        # Increase counter by one \n",
    "        record= record + 1\n",
    "        \n",
    "        # Wait a second in loop to not over exceed rate limit of API\n",
    "#         time.sleep(1.01)\n",
    "        \n",
    "    # If no record found \"skip\" to next call\n",
    "    except:\n",
    "        print(\"City not found. Skipping...\")\n",
    "    continue\n",
    "    \n",
    "print(f\"-----------------------------\")\n",
    "print(f\"Data Retrieval Complete\")\n",
    "print(f\"-----------------------------\")"
   ]
  },
  {
   "cell_type": "markdown",
   "metadata": {},
   "source": [
    "### Convert Raw Data to DataFrame\n",
    "* Export the city data into a .csv.\n",
    "* Display the DataFrame"
   ]
  },
  {
   "cell_type": "code",
   "execution_count": 5,
   "metadata": {
    "scrolled": true
   },
   "outputs": [
    {
     "data": {
      "text/plain": [
       "City          529\n",
       "Cloudiness    529\n",
       "Country       529\n",
       "Date          529\n",
       "Humidity      529\n",
       "Lat           529\n",
       "Lng           529\n",
       "Max Temp      529\n",
       "Wind Speed    529\n",
       "dtype: int64"
      ]
     },
     "execution_count": 5,
     "metadata": {},
     "output_type": "execute_result"
    }
   ],
   "source": [
    "# Create a dictonary with the lists generated\n",
    "weatherpy_dict = {\n",
    "    \"City\": city_name,\n",
    "    \"Cloudiness\":cloudiness, \n",
    "    \"Country\":country,\n",
    "    \"Date\":date, \n",
    "    \"Humidity\": humidity,\n",
    "    \"Lat\":lat, \n",
    "    \"Lng\":lng, \n",
    "    \"Max Temp\": max_temp,\n",
    "    \"Wind Speed\":wind_speed\n",
    "}\n",
    "\n",
    "# Create a data frame from dictionary\n",
    "weather_data = pd.DataFrame(weatherpy_dict)\n",
    "\n",
    "# Display count of weather data values \n",
    "weather_data.count()"
   ]
  },
  {
   "cell_type": "code",
   "execution_count": null,
   "metadata": {},
   "outputs": [],
   "source": []
  },
  {
   "cell_type": "markdown",
   "metadata": {},
   "source": [
    "### Plotting the Data\n",
    "* Use proper labeling of the plots using plot titles (including date of analysis) and axes labels.\n",
    "* Save the plotted figures as .pngs."
   ]
  },
  {
   "cell_type": "markdown",
   "metadata": {},
   "source": [
    "#### Latitude vs. Temperature Plot"
   ]
  },
  {
   "cell_type": "code",
   "execution_count": 6,
   "metadata": {
    "scrolled": false
   },
   "outputs": [
    {
     "data": {
      "image/png": "[encoded data removed]",
      "text/plain": [
       "<Figure size 432x288 with 1 Axes>"
      ]
     },
     "metadata": {
      "needs_background": "light"
     },
     "output_type": "display_data"
    }
   ],
   "source": [
    "# Build a scatter plot for each data type\n",
    "plt.scatter(weather_data[\"Lat\"], weather_data[\"Max Temp\"], marker=\"o\", s=10)\n",
    "\n",
    "# Incorporate the other graph properties\n",
    "plt.title(\"City Latitude vs. Max Temperature\")\n",
    "plt.ylabel(\"Max. Temperature (F)\")\n",
    "plt.xlabel(\"Latitude\")\n",
    "plt.grid(True)\n",
    "\n",
    "# Save the figure\n",
    "#plt.savefig(\"Output_Plots/Max_Temp_vs_Latitude.png\")\n",
    "\n",
    "# Show plot\n",
    "plt.show()"
   ]
  },
  {
   "cell_type": "markdown",
   "metadata": {},
   "source": [
    "#### Latitude vs. Humidity Plot"
   ]
  },
  {
   "cell_type": "code",
   "execution_count": 7,
   "metadata": {},
   "outputs": [
    {
     "data": {
      "image/png": "[encoded data removed]",
      "text/plain": [
       "<Figure size 432x288 with 1 Axes>"
      ]
     },
     "metadata": {
      "needs_background": "light"
     },
     "output_type": "display_data"
    }
   ],
   "source": [
    "# Build a scatter plot for each data type\n",
    "plt.scatter(weather_data[\"Lat\"], weather_data[\"Humidity\"], marker=\"o\", s=10)\n",
    "\n",
    "# Incorporate the other graph properties\n",
    "plt.title(\"City Latitude vs. Humidity\")\n",
    "plt.ylabel(\"Humidity (%)\")\n",
    "plt.xlabel(\"Latitude\")\n",
    "plt.grid(True)\n",
    "\n",
    "# Save the figure\n",
    "#plt.savefig(\"Output_Plots/Humidity_vs_Latitude.png\")\n",
    "\n",
    "# Show plot\n",
    "plt.show()"
   ]
  },
  {
   "cell_type": "markdown",
   "metadata": {},
   "source": [
    "#### Latitude vs. Cloudiness Plot"
   ]
  },
  {
   "cell_type": "code",
   "execution_count": 8,
   "metadata": {},
   "outputs": [
    {
     "data": {
      "image/png": "[encoded data removed]",
      "text/plain": [
       "<Figure size 432x288 with 1 Axes>"
      ]
     },
     "metadata": {
      "needs_background": "light"
     },
     "output_type": "display_data"
    }
   ],
   "source": [
    "# Build a scatter plot for each data type\n",
    "plt.scatter(weather_data[\"Lat\"], weather_data[\"Cloudiness\"], marker=\"o\", s=10)\n",
    "\n",
    "# Incorporate the other graph properties\n",
    "plt.title(\"City Latitude vs. Cloudiness\")\n",
    "plt.ylabel(\"Cloudiness (%)\")\n",
    "plt.xlabel(\"Latitude\")\n",
    "plt.grid(True)\n",
    "\n",
    "# Save the figure\n",
    "#plt.savefig(\"Output_Plots/Cloudiness_vs_Latitude.png\")\n",
    "\n",
    "# Show plot\n",
    "plt.show()"
   ]
  },
  {
   "cell_type": "markdown",
   "metadata": {},
   "source": [
    "#### Latitude vs. Wind Speed Plot"
   ]
  },
  {
   "cell_type": "code",
   "execution_count": 9,
   "metadata": {},
   "outputs": [
    {
     "data": {
      "image/png": "[encoded data removed]",
      "text/plain": [
       "<Figure size 432x288 with 1 Axes>"
      ]
     },
     "metadata": {
      "needs_background": "light"
     },
     "output_type": "display_data"
    }
   ],
   "source": [
    "# Build a scatter plot for each data type\n",
    "plt.scatter(weather_data[\"Lat\"], weather_data[\"Wind Speed\"], marker=\"o\", s=10)\n",
    "\n",
    "# Incorporate the other graph properties\n",
    "plt.title(\"City Latitude vs. Wind Speed\")\n",
    "plt.ylabel(\"Wind Speed (mph)\")\n",
    "plt.xlabel(\"Latitude\")\n",
    "plt.grid(True)\n",
    "\n",
    "# Save the figure\n",
    "#plt.savefig(\"Output_Plots/Wind_Speed_vs_Latitude.png\")\n",
    "\n",
    "# Show plot\n",
    "plt.show()"
   ]
  },
  {
   "cell_type": "markdown",
   "metadata": {},
   "source": [
    "## Linear Regression"
   ]
  },
  {
   "cell_type": "code",
   "execution_count": 10,
   "metadata": {},
   "outputs": [],
   "source": [
    "# OPTIONAL: Create a function to create Linear Regression plots\n"
   ]
  },
  {
   "cell_type": "code",
   "execution_count": 11,
   "metadata": {},
   "outputs": [],
   "source": [
    "# Create Northern and Southern Hemisphere DataFrames\n"
   ]
  },
  {
   "cell_type": "markdown",
   "metadata": {},
   "source": [
    "####  Northern Hemisphere - Max Temp vs. Latitude Linear Regression"
   ]
  },
  {
   "cell_type": "code",
   "execution_count": null,
   "metadata": {},
   "outputs": [],
   "source": []
  },
  {
   "cell_type": "markdown",
   "metadata": {},
   "source": [
    "####  Southern Hemisphere - Max Temp vs. Latitude Linear Regression"
   ]
  },
  {
   "cell_type": "code",
   "execution_count": null,
   "metadata": {},
   "outputs": [],
   "source": []
  },
  {
   "cell_type": "markdown",
   "metadata": {},
   "source": [
    "####  Northern Hemisphere - Humidity (%) vs. Latitude Linear Regression"
   ]
  },
  {
   "cell_type": "code",
   "execution_count": null,
   "metadata": {},
   "outputs": [],
   "source": []
  },
  {
   "cell_type": "markdown",
   "metadata": {},
   "source": [
    "####  Southern Hemisphere - Humidity (%) vs. Latitude Linear Regression"
   ]
  },
  {
   "cell_type": "code",
   "execution_count": null,
   "metadata": {},
   "outputs": [],
   "source": []
  },
  {
   "cell_type": "markdown",
   "metadata": {},
   "source": [
    "####  Northern Hemisphere - Cloudiness (%) vs. Latitude Linear Regression"
   ]
  },
  {
   "cell_type": "code",
   "execution_count": null,
   "metadata": {},
   "outputs": [],
   "source": []
  },
  {
   "cell_type": "markdown",
   "metadata": {},
   "source": [
    "####  Southern Hemisphere - Cloudiness (%) vs. Latitude Linear Regression"
   ]
  },
  {
   "cell_type": "code",
   "execution_count": null,
   "metadata": {},
   "outputs": [],
   "source": []
  },
  {
   "cell_type": "markdown",
   "metadata": {},
   "source": [
    "####  Northern Hemisphere - Wind Speed (mph) vs. Latitude Linear Regression"
   ]
  },
  {
   "cell_type": "code",
   "execution_count": null,
   "metadata": {},
   "outputs": [],
   "source": []
  },
  {
   "cell_type": "markdown",
   "metadata": {},
   "source": [
    "####  Southern Hemisphere - Wind Speed (mph) vs. Latitude Linear Regression"
   ]
  },
  {
   "cell_type": "code",
   "execution_count": null,
   "metadata": {
    "scrolled": true
   },
   "outputs": [],
   "source": []
  },
  {
   "cell_type": "code",
   "execution_count": null,
   "metadata": {},
   "outputs": [],
   "source": []
  }
 ],
 "metadata": {
  "anaconda-cloud": {},
  "kernel_info": {
   "name": "python3"
  },
  "kernelspec": {
   "display_name": "Python 3",
   "language": "python",
   "name": "python3"
  },
  "language_info": {
   "codemirror_mode": {
    "name": "ipython",
    "version": 3
   },
   "file_extension": ".py",
   "mimetype": "text/x-python",
   "name": "python",
   "nbconvert_exporter": "python",
   "pygments_lexer": "ipython3",
   "version": "3.7.4"
  },
  "latex_envs": {
   "LaTeX_envs_menu_present": true,
   "autoclose": false,
   "autocomplete": true,
   "bibliofile": "biblio.bib",
   "cite_by": "apalike",
   "current_citInitial": 1,
   "eqLabelWithNumbers": true,
   "eqNumInitial": 1,
   "hotkeys": {
    "equation": "Ctrl-E",
    "itemize": "Ctrl-I"
   },
   "labels_anchors": false,
   "latex_user_defs": false,
   "report_style_numbering": false,
   "user_envs_cfg": false
  },
  "nteract": {
   "version": "0.12.3"
  }
 },
 "nbformat": 4,
 "nbformat_minor": 2
}
