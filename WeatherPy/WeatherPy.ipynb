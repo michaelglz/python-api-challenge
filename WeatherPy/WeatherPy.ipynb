{
 "cells": [
  {
   "cell_type": "markdown",
   "metadata": {},
   "source": [
    "# WeatherPy\n",
    "----\n",
    "\n",
    "#### Note\n",
    "* Instructions have been included for each segment. You do not have to follow them exactly, but they are included to help you think through the steps."
   ]
  },
  {
   "cell_type": "code",
   "execution_count": 4,
   "metadata": {
    "scrolled": true
   },
   "outputs": [],
   "source": [
    "# Dependencies and Setup\n",
    "import matplotlib.pyplot as plt\n",
    "import pandas as pd\n",
    "import numpy as np\n",
    "import requests\n",
    "import time\n",
    "from scipy.stats import linregress\n",
    "\n",
    "# Import API key\n",
    "from api_keys import weather_api_key\n",
    "\n",
    "# Incorporated citipy to determine city based on latitude and longitude\n",
    "from citipy import citipy\n",
    "\n",
    "# Output File (CSV)\n",
    "output_data_file = \"output_data/cities.csv\"\n",
    "\n",
    "# Range of latitudes and longitudes\n",
    "lat_range = (-90, 90)\n",
    "lng_range = (-180, 180)"
   ]
  },
  {
   "cell_type": "markdown",
   "metadata": {},
   "source": [
    "## Generate Cities List"
   ]
  },
  {
   "cell_type": "code",
   "execution_count": 5,
   "metadata": {},
   "outputs": [
    {
     "data": {
      "text/plain": [
       "641"
      ]
     },
     "execution_count": 5,
     "metadata": {},
     "output_type": "execute_result"
    }
   ],
   "source": [
    "# List for holding lat_lngs and cities\n",
    "lat_lngs = []\n",
    "cities = []\n",
    "\n",
    "# Create a set of random lat and lng combinations\n",
    "lats = np.random.uniform(low=-90.000, high=90.000, size=1500)\n",
    "lngs = np.random.uniform(low=-180.000, high=180.000, size=1500)\n",
    "lat_lngs = zip(lats, lngs)\n",
    "\n",
    "# Identify nearest city for each lat, lng combination\n",
    "for lat_lng in lat_lngs:\n",
    "    city = citipy.nearest_city(lat_lng[0], lat_lng[1]).city_name\n",
    "    \n",
    "    # If the city is unique, then add it to a our cities list\n",
    "    if city not in cities:\n",
    "        cities.append(city)\n",
    "\n",
    "# Print the city count to confirm sufficient count\n",
    "len(cities)"
   ]
  },
  {
   "cell_type": "markdown",
   "metadata": {},
   "source": [
    "### Perform API Calls\n",
    "* Perform a weather check on each city using a series of successive API calls.\n",
    "* Include a print log of each city as it'sbeing processed (with the city number and city name).\n"
   ]
  },
  {
   "cell_type": "code",
   "execution_count": 6,
   "metadata": {
    "scrolled": false
   },
   "outputs": [],
   "source": [
    "# Starting URL for Weather Map API Call\n",
    "url = \"http://api.openweathermap.org/data/2.5/weather?units=Imperial&APPID=\" + weather_api_key "
   ]
  },
  {
   "cell_type": "code",
   "execution_count": 7,
   "metadata": {},
   "outputs": [
    {
     "data": {
      "text/plain": [
       "'7e78c810a86ff9ffe4ed443e1e066aea'"
      ]
     },
     "execution_count": 7,
     "metadata": {},
     "output_type": "execute_result"
    }
   ],
   "source": [
    "weather_api_key"
   ]
  },
  {
   "cell_type": "code",
   "execution_count": 8,
   "metadata": {},
   "outputs": [],
   "source": [
    "#api.openweathermap.org/data/2.5/weather?&APPID=7e78c810a86ff9ffe4ed443e1e066aea&q=London"
   ]
  },
  {
   "cell_type": "code",
   "execution_count": 9,
   "metadata": {
    "scrolled": false
   },
   "outputs": [
    {
     "name": "stdout",
     "output_type": "stream",
     "text": [
      "Beginning Data Retrieval\n",
      "-----------------------------\n",
      "Processing Record 1 of Set 1 | East London\n",
      "Processing Record 2 of Set 1 | Salalah\n",
      "Processing Record 3 of Set 1 | Udachny\n",
      "Processing Record 4 of Set 1 | Husavik\n",
      "City not found. Skipping...\n",
      "Processing Record 5 of Set 1 | Guerrero Negro\n",
      "Processing Record 6 of Set 1 | Kaitangata\n",
      "Processing Record 7 of Set 1 | Makakilo City\n",
      "City not found. Skipping...\n",
      "Processing Record 8 of Set 1 | Slupca\n",
      "Processing Record 9 of Set 1 | Ribeira Grande\n",
      "Processing Record 10 of Set 1 | Mahebourg\n",
      "Processing Record 11 of Set 1 | Kavieng\n",
      "Processing Record 12 of Set 1 | Talnakh\n",
      "Processing Record 13 of Set 1 | Vodnyy\n",
      "Processing Record 14 of Set 1 | Nome\n",
      "Processing Record 15 of Set 1 | Tiarei\n",
      "Processing Record 16 of Set 1 | Bathsheba\n",
      "Processing Record 17 of Set 1 | Kodiak\n",
      "Processing Record 18 of Set 1 | Busselton\n",
      "Processing Record 19 of Set 1 | Klyuchi\n",
      "Processing Record 20 of Set 1 | Avarua\n",
      "Processing Record 21 of Set 1 | Longonjo\n",
      "Processing Record 22 of Set 1 | Ushuaia\n",
      "City not found. Skipping...\n",
      "Processing Record 23 of Set 1 | Qaanaaq\n",
      "Processing Record 24 of Set 1 | Binzhou\n",
      "Processing Record 25 of Set 1 | Atuona\n",
      "Processing Record 26 of Set 1 | Klaksvik\n",
      "Processing Record 27 of Set 1 | Luderitz\n",
      "Processing Record 28 of Set 1 | Nelidovo\n",
      "Processing Record 29 of Set 1 | Flinders\n",
      "Processing Record 30 of Set 1 | Coquimbo\n",
      "City not found. Skipping...\n",
      "Processing Record 31 of Set 1 | Ha Giang\n",
      "Processing Record 32 of Set 1 | La Sarre\n",
      "Processing Record 33 of Set 1 | Haines Junction\n",
      "City not found. Skipping...\n",
      "Processing Record 34 of Set 1 | Carnarvon\n",
      "Processing Record 35 of Set 1 | Khatanga\n",
      "Processing Record 36 of Set 1 | Tete\n",
      "Processing Record 37 of Set 1 | Roding\n",
      "Processing Record 38 of Set 1 | Rikitea\n",
      "City not found. Skipping...\n",
      "Processing Record 39 of Set 1 | Mataura\n",
      "Processing Record 40 of Set 1 | Iqaluit\n",
      "Processing Record 41 of Set 1 | Rio Gallegos\n",
      "Processing Record 42 of Set 1 | Parkersburg\n",
      "Processing Record 43 of Set 1 | Albany\n",
      "Processing Record 44 of Set 1 | Punta Arenas\n",
      "Processing Record 0 of Set 2 | Vangaindrano\n",
      "City not found. Skipping...\n",
      "Processing Record 1 of Set 2 | Hilo\n",
      "City not found. Skipping...\n",
      "Processing Record 2 of Set 2 | Tiksi\n",
      "Processing Record 3 of Set 2 | Cidreira\n",
      "Processing Record 4 of Set 2 | Vestmanna\n",
      "Processing Record 5 of Set 2 | Vaini\n",
      "Processing Record 6 of Set 2 | Marathon\n",
      "Processing Record 7 of Set 2 | Yima\n",
      "Processing Record 8 of Set 2 | Imbituba\n",
      "City not found. Skipping...\n",
      "Processing Record 9 of Set 2 | Serenje\n",
      "Processing Record 10 of Set 2 | Bethel\n",
      "Processing Record 11 of Set 2 | Ulagan\n",
      "Processing Record 12 of Set 2 | Mana\n",
      "Processing Record 13 of Set 2 | Ponta do Sol\n",
      "Processing Record 14 of Set 2 | Nikolskoye\n",
      "Processing Record 15 of Set 2 | Trinidad\n",
      "Processing Record 16 of Set 2 | Kavaratti\n",
      "Processing Record 17 of Set 2 | Mackay\n",
      "Processing Record 18 of Set 2 | Puerto Ayora\n",
      "Processing Record 19 of Set 2 | Olafsvik\n",
      "Processing Record 20 of Set 2 | Bluff\n",
      "Processing Record 21 of Set 2 | Bambous Virieux\n",
      "Processing Record 22 of Set 2 | Cartagena\n",
      "Processing Record 23 of Set 2 | Garissa\n",
      "Processing Record 24 of Set 2 | Birjand\n",
      "Processing Record 25 of Set 2 | Labuhan\n",
      "Processing Record 26 of Set 2 | Galt\n",
      "Processing Record 27 of Set 2 | Yellowknife\n",
      "City not found. Skipping...\n",
      "Processing Record 28 of Set 2 | Clyde River\n",
      "Processing Record 29 of Set 2 | San Quintin\n",
      "Processing Record 30 of Set 2 | Sandpoint\n",
      "Processing Record 31 of Set 2 | Kapaa\n",
      "Processing Record 32 of Set 2 | Assiut\n",
      "Processing Record 33 of Set 2 | Lorengau\n",
      "Processing Record 34 of Set 2 | New Norfolk\n",
      "Processing Record 35 of Set 2 | Snezhnogorsk\n",
      "Processing Record 36 of Set 2 | Rorvik\n",
      "City not found. Skipping...\n",
      "Processing Record 37 of Set 2 | Strezhevoy\n",
      "Processing Record 38 of Set 2 | Ayan\n",
      "Processing Record 39 of Set 2 | Matara\n",
      "Processing Record 40 of Set 2 | Lavrentiya\n",
      "Processing Record 41 of Set 2 | Barrow\n",
      "Processing Record 42 of Set 2 | Porto Velho\n",
      "Processing Record 43 of Set 2 | Matola\n",
      "Processing Record 44 of Set 2 | Port Keats\n",
      "Processing Record 0 of Set 3 | Cape Town\n",
      "Processing Record 1 of Set 3 | Henties Bay\n",
      "Processing Record 2 of Set 3 | Port-Gentil\n",
      "City not found. Skipping...\n",
      "Processing Record 3 of Set 3 | Dikson\n",
      "Processing Record 4 of Set 3 | Saskylakh\n",
      "Processing Record 5 of Set 3 | Tianpeng\n",
      "City not found. Skipping...\n",
      "Processing Record 6 of Set 3 | Port Lincoln\n",
      "Processing Record 7 of Set 3 | Vanimo\n",
      "Processing Record 8 of Set 3 | Codrington\n",
      "Processing Record 9 of Set 3 | Solyanka\n",
      "Processing Record 10 of Set 3 | Punta Cardon\n",
      "Processing Record 11 of Set 3 | Botngard\n",
      "Processing Record 12 of Set 3 | Ornes\n",
      "Processing Record 13 of Set 3 | Hasaki\n",
      "Processing Record 14 of Set 3 | Tuktoyaktuk\n",
      "City not found. Skipping...\n",
      "Processing Record 15 of Set 3 | Castro\n",
      "Processing Record 16 of Set 3 | Nouakchott\n",
      "Processing Record 17 of Set 3 | Bud\n",
      "Processing Record 18 of Set 3 | Pangai\n",
      "Processing Record 19 of Set 3 | Sao Filipe\n",
      "Processing Record 20 of Set 3 | Cabo San Lucas\n",
      "Processing Record 21 of Set 3 | Ucluelet\n",
      "Processing Record 22 of Set 3 | Karratha\n",
      "Processing Record 23 of Set 3 | Mar del Plata\n",
      "Processing Record 24 of Set 3 | Manta\n",
      "Processing Record 25 of Set 3 | Churapcha\n",
      "Processing Record 26 of Set 3 | Mumford\n",
      "Processing Record 27 of Set 3 | Shushenskoye\n",
      "Processing Record 28 of Set 3 | George Town\n",
      "City not found. Skipping...\n",
      "City not found. Skipping...\n",
      "Processing Record 29 of Set 3 | Praia\n",
      "Processing Record 30 of Set 3 | Hualmay\n",
      "Processing Record 31 of Set 3 | Syracuse\n",
      "Processing Record 32 of Set 3 | Dayong\n",
      "City not found. Skipping...\n",
      "Processing Record 33 of Set 3 | Tuatapere\n",
      "Processing Record 34 of Set 3 | Butaritari\n",
      "Processing Record 35 of Set 3 | Funchal\n",
      "City not found. Skipping...\n",
      "Processing Record 36 of Set 3 | Gizo\n",
      "City not found. Skipping...\n",
      "Processing Record 37 of Set 3 | Saint-Augustin\n",
      "Processing Record 38 of Set 3 | Langham\n",
      "Processing Record 39 of Set 3 | Asau\n",
      "Processing Record 40 of Set 3 | Avera\n",
      "Processing Record 41 of Set 3 | Baiyin\n",
      "Processing Record 0 of Set 4 | Ilulissat\n",
      "Processing Record 1 of Set 4 | Tibati\n",
      "Processing Record 2 of Set 4 | Ust-Nera\n",
      "Processing Record 3 of Set 4 | Upernavik\n",
      "Processing Record 4 of Set 4 | Lubumbashi\n",
      "Processing Record 5 of Set 4 | Cherskiy\n",
      "Processing Record 6 of Set 4 | Necochea\n",
      "Processing Record 7 of Set 4 | Auray\n",
      "Processing Record 8 of Set 4 | Ciudad Lazaro Cardenas\n",
      "City not found. Skipping...\n",
      "Processing Record 9 of Set 4 | Norman Wells\n",
      "Processing Record 10 of Set 4 | Corrales\n",
      "City not found. Skipping...\n",
      "Processing Record 11 of Set 4 | Rong Kwang\n",
      "Processing Record 12 of Set 4 | Taoudenni\n",
      "Processing Record 13 of Set 4 | Knysna\n",
      "Processing Record 14 of Set 4 | Souillac\n",
      "Processing Record 15 of Set 4 | Torbay\n",
      "Processing Record 16 of Set 4 | Robe\n",
      "Processing Record 17 of Set 4 | Zhigansk\n",
      "Processing Record 18 of Set 4 | Kirakira\n",
      "Processing Record 19 of Set 4 | Tasiilaq\n",
      "Processing Record 20 of Set 4 | Hobart\n",
      "Processing Record 21 of Set 4 | Hermanus\n",
      "City not found. Skipping...\n",
      "City not found. Skipping...\n",
      "Processing Record 22 of Set 4 | Ushtobe\n",
      "Processing Record 23 of Set 4 | Manggar\n",
      "Processing Record 24 of Set 4 | Mercedes\n",
      "Processing Record 25 of Set 4 | Moose Factory\n",
      "Processing Record 26 of Set 4 | Ryotsu\n",
      "Processing Record 27 of Set 4 | Narsaq\n",
      "Processing Record 28 of Set 4 | Daura\n",
      "Processing Record 29 of Set 4 | Calvinia\n",
      "Processing Record 30 of Set 4 | Beya\n",
      "Processing Record 31 of Set 4 | Tsuruoka\n",
      "Processing Record 32 of Set 4 | Agadez\n",
      "Processing Record 33 of Set 4 | Fortuna\n",
      "Processing Record 34 of Set 4 | Ville-Marie\n",
      "Processing Record 35 of Set 4 | Champerico\n",
      "Processing Record 36 of Set 4 | Menongue\n",
      "Processing Record 37 of Set 4 | Boca do Acre\n",
      "Processing Record 38 of Set 4 | Dwarka\n",
      "Processing Record 39 of Set 4 | Bodden Town\n",
      "Processing Record 40 of Set 4 | Fiche\n",
      "Processing Record 41 of Set 4 | Kumul\n",
      "Processing Record 42 of Set 4 | Chokurdakh\n",
      "Processing Record 43 of Set 4 | Pisco\n",
      "Processing Record 44 of Set 4 | Ottawa\n",
      "Processing Record 45 of Set 4 | Altay\n",
      "Processing Record 0 of Set 5 | Ust'-Kut\n",
      "Processing Record 1 of Set 5 | Chui\n",
      "Processing Record 2 of Set 5 | Puerto Escondido\n",
      "Processing Record 3 of Set 5 | Atbasar\n",
      "Processing Record 4 of Set 5 | Tefe\n",
      "Processing Record 5 of Set 5 | Faanui\n",
      "Processing Record 6 of Set 5 | Khash\n"
     ]
    },
    {
     "name": "stdout",
     "output_type": "stream",
     "text": [
      "Processing Record 7 of Set 5 | Ahipara\n",
      "Processing Record 8 of Set 5 | La Rioja\n",
      "Processing Record 9 of Set 5 | Nador\n",
      "Processing Record 10 of Set 5 | Hamilton\n",
      "Processing Record 11 of Set 5 | Mauriti\n",
      "City not found. Skipping...\n",
      "Processing Record 12 of Set 5 | Geraldton\n",
      "Processing Record 13 of Set 5 | Kahului\n",
      "Processing Record 14 of Set 5 | Longyearbyen\n",
      "Processing Record 15 of Set 5 | Nemuro\n",
      "Processing Record 16 of Set 5 | Wilmington\n",
      "Processing Record 17 of Set 5 | Inuvik\n",
      "Processing Record 18 of Set 5 | Takoradze\n",
      "Processing Record 19 of Set 5 | Ercis\n",
      "Processing Record 20 of Set 5 | Kenai\n",
      "Processing Record 21 of Set 5 | Maxixe\n",
      "Processing Record 22 of Set 5 | Kandrian\n",
      "Processing Record 23 of Set 5 | Lixouri\n",
      "Processing Record 24 of Set 5 | Laguna\n",
      "Processing Record 25 of Set 5 | Hong Kong\n",
      "City not found. Skipping...\n",
      "Processing Record 26 of Set 5 | Zyryanka\n",
      "Processing Record 27 of Set 5 | Yumen\n",
      "Processing Record 28 of Set 5 | Mount Gambier\n",
      "Processing Record 29 of Set 5 | Hope\n",
      "Processing Record 30 of Set 5 | Iracoubo\n",
      "Processing Record 31 of Set 5 | Locri\n",
      "Processing Record 32 of Set 5 | Pizarro\n",
      "Processing Record 33 of Set 5 | Westport\n",
      "Processing Record 34 of Set 5 | Kailua\n",
      "Processing Record 35 of Set 5 | Pevek\n",
      "Processing Record 36 of Set 5 | Nanortalik\n",
      "Processing Record 37 of Set 5 | Bredasdorp\n",
      "Processing Record 38 of Set 5 | Nykoeping\n",
      "Processing Record 39 of Set 5 | Kungurtug\n",
      "Processing Record 40 of Set 5 | Beloha\n",
      "Processing Record 41 of Set 5 | Zhuanghe\n",
      "Processing Record 42 of Set 5 | Thompson\n",
      "City not found. Skipping...\n",
      "Processing Record 43 of Set 5 | Nouadhibou\n",
      "Processing Record 44 of Set 5 | Grand Gaube\n",
      "Processing Record 45 of Set 5 | Kuito\n",
      "Processing Record 46 of Set 5 | Blackfoot\n",
      "Processing Record 0 of Set 6 | Kuruman\n",
      "Processing Record 1 of Set 6 | Ancud\n",
      "Processing Record 2 of Set 6 | Sao Joao da Barra\n",
      "Processing Record 3 of Set 6 | Oranjemund\n",
      "City not found. Skipping...\n",
      "Processing Record 4 of Set 6 | Londrina\n",
      "City not found. Skipping...\n",
      "Processing Record 5 of Set 6 | Stubbekobing\n",
      "Processing Record 6 of Set 6 | Cockburn Town\n",
      "Processing Record 7 of Set 6 | Olinda\n",
      "Processing Record 8 of Set 6 | Ginda\n",
      "Processing Record 9 of Set 6 | Shipunovo\n",
      "Processing Record 10 of Set 6 | Ostrovnoy\n",
      "Processing Record 11 of Set 6 | Puerto Madryn\n",
      "Processing Record 12 of Set 6 | Krasnosel'kup\n",
      "Processing Record 13 of Set 6 | Pokrovsk\n",
      "Processing Record 14 of Set 6 | Aklavik\n",
      "Processing Record 15 of Set 6 | Vostok\n",
      "Processing Record 16 of Set 6 | Nar'yan-Mar\n",
      "Processing Record 17 of Set 6 | Xichang\n",
      "Processing Record 18 of Set 6 | Nizhneangarsk\n",
      "Processing Record 19 of Set 6 | Bellevue\n",
      "Processing Record 20 of Set 6 | Ploemeur\n",
      "Processing Record 21 of Set 6 | Hassan\n",
      "Processing Record 22 of Set 6 | Russell\n",
      "Processing Record 23 of Set 6 | Nyagan\n",
      "Processing Record 24 of Set 6 | Australind\n",
      "Processing Record 25 of Set 6 | Tres Arroyos\n",
      "Processing Record 26 of Set 6 | Goderich\n",
      "Processing Record 27 of Set 6 | Bahia Blanca\n",
      "Processing Record 28 of Set 6 | Tshela\n",
      "Processing Record 29 of Set 6 | Saint-Anselme\n",
      "Processing Record 30 of Set 6 | Hegang\n",
      "City not found. Skipping...\n",
      "Processing Record 31 of Set 6 | Mnogovershinnyy\n",
      "Processing Record 32 of Set 6 | Nuuk\n",
      "Processing Record 33 of Set 6 | Lehola\n",
      "Processing Record 34 of Set 6 | City of San Pedro\n",
      "Processing Record 35 of Set 6 | Lebu\n",
      "Processing Record 36 of Set 6 | Arraial do Cabo\n",
      "Processing Record 37 of Set 6 | La Paz\n",
      "Processing Record 38 of Set 6 | Severo-Kuril'sk\n",
      "Processing Record 39 of Set 6 | Chiredzi\n",
      "Processing Record 40 of Set 6 | Maceio\n",
      "Processing Record 41 of Set 6 | Cabedelo\n",
      "Processing Record 42 of Set 6 | Chapais\n",
      "Processing Record 43 of Set 6 | Margate\n",
      "Processing Record 44 of Set 6 | Vila Velha\n",
      "Processing Record 45 of Set 6 | Lagoa\n",
      "Processing Record 46 of Set 6 | Charters Towers\n",
      "Processing Record 0 of Set 7 | Guiratinga\n",
      "Processing Record 1 of Set 7 | Tual\n",
      "Processing Record 2 of Set 7 | Hisor\n",
      "Processing Record 3 of Set 7 | Fairbanks\n",
      "Processing Record 4 of Set 7 | Meulaboh\n",
      "Processing Record 5 of Set 7 | Itarema\n",
      "City not found. Skipping...\n",
      "Processing Record 6 of Set 7 | Kalmunai\n",
      "Processing Record 7 of Set 7 | Ixtapa\n",
      "Processing Record 8 of Set 7 | Linhares\n",
      "Processing Record 9 of Set 7 | Jamestown\n",
      "Processing Record 10 of Set 7 | Richards Bay\n",
      "Processing Record 11 of Set 7 | Kashan\n",
      "City not found. Skipping...\n",
      "Processing Record 12 of Set 7 | Paraty\n",
      "Processing Record 13 of Set 7 | Sakakah\n",
      "Processing Record 14 of Set 7 | Touros\n",
      "Processing Record 15 of Set 7 | Sur\n",
      "Processing Record 16 of Set 7 | Leningradskiy\n",
      "Processing Record 17 of Set 7 | Taree\n",
      "Processing Record 18 of Set 7 | Brae\n",
      "Processing Record 19 of Set 7 | Pangnirtung\n",
      "Processing Record 20 of Set 7 | Teguldet\n",
      "Processing Record 21 of Set 7 | Bengkulu\n",
      "Processing Record 22 of Set 7 | Sambava\n",
      "Processing Record 23 of Set 7 | Litovko\n",
      "Processing Record 24 of Set 7 | Grootfontein\n",
      "Processing Record 25 of Set 7 | Chulym\n",
      "Processing Record 26 of Set 7 | Poum\n",
      "Processing Record 27 of Set 7 | Gisborne\n",
      "Processing Record 28 of Set 7 | Oktyabrskoye\n",
      "Processing Record 29 of Set 7 | Muhos\n",
      "Processing Record 30 of Set 7 | Hambantota\n",
      "Processing Record 31 of Set 7 | Molina\n",
      "Processing Record 32 of Set 7 | Broome\n",
      "City not found. Skipping...\n",
      "Processing Record 33 of Set 7 | Samarai\n",
      "Processing Record 34 of Set 7 | Kushiro\n",
      "Processing Record 35 of Set 7 | Tinskoy\n",
      "Processing Record 36 of Set 7 | Zigong\n",
      "Processing Record 37 of Set 7 | Saint-Francois\n",
      "Processing Record 38 of Set 7 | Khanbari\n",
      "Processing Record 39 of Set 7 | Faya\n",
      "Processing Record 40 of Set 7 | Vila\n",
      "Processing Record 41 of Set 7 | Coos Bay\n",
      "City not found. Skipping...\n",
      "Processing Record 42 of Set 7 | Maltahohe\n",
      "Processing Record 43 of Set 7 | Malyye Derbety\n",
      "Processing Record 44 of Set 7 | Kuching\n",
      "City not found. Skipping...\n",
      "Processing Record 0 of Set 8 | Dawson Creek\n",
      "Processing Record 1 of Set 8 | Ust'-Koksa\n",
      "Processing Record 2 of Set 8 | Catabola\n",
      "Processing Record 3 of Set 8 | Riberalta\n",
      "Processing Record 4 of Set 8 | Kasane\n",
      "Processing Record 5 of Set 8 | Calama\n",
      "Processing Record 6 of Set 8 | Esperance\n",
      "Processing Record 7 of Set 8 | Saint-Philippe\n",
      "City not found. Skipping...\n",
      "Processing Record 8 of Set 8 | Miyang\n",
      "Processing Record 9 of Set 8 | Belebey\n",
      "Processing Record 10 of Set 8 | Morehead\n",
      "City not found. Skipping...\n",
      "Processing Record 11 of Set 8 | Viedma\n",
      "Processing Record 12 of Set 8 | Scarborough\n",
      "Processing Record 13 of Set 8 | Vestmannaeyjar\n",
      "Processing Record 14 of Set 8 | Puerto del Rosario\n",
      "Processing Record 15 of Set 8 | Coyhaique\n",
      "Processing Record 16 of Set 8 | Lata\n",
      "Processing Record 17 of Set 8 | Kalat\n",
      "Processing Record 18 of Set 8 | Huarmey\n",
      "Processing Record 19 of Set 8 | Balikpapan\n",
      "Processing Record 20 of Set 8 | Mirny\n",
      "Processing Record 21 of Set 8 | Saint George\n",
      "Processing Record 22 of Set 8 | Saint-Pierre\n",
      "Processing Record 23 of Set 8 | Impfondo\n",
      "Processing Record 24 of Set 8 | Pacific Grove\n",
      "Processing Record 25 of Set 8 | Rundu\n",
      "City not found. Skipping...\n",
      "Processing Record 26 of Set 8 | Kassala\n",
      "Processing Record 27 of Set 8 | San Jose de Rio Tinto\n",
      "Processing Record 28 of Set 8 | San Juan\n",
      "Processing Record 29 of Set 8 | Bumba\n",
      "Processing Record 30 of Set 8 | Vermilion\n",
      "Processing Record 31 of Set 8 | Abha\n",
      "Processing Record 32 of Set 8 | Hinton\n",
      "Processing Record 33 of Set 8 | Ejido\n",
      "Processing Record 34 of Set 8 | Samfya\n",
      "Processing Record 35 of Set 8 | Honiara\n",
      "Processing Record 36 of Set 8 | Marrakesh\n",
      "Processing Record 37 of Set 8 | Ponta Delgada\n",
      "Processing Record 38 of Set 8 | Chiknayakanhalli\n",
      "Processing Record 39 of Set 8 | Lunenburg\n",
      "City not found. Skipping...\n",
      "Processing Record 40 of Set 8 | Kokopo\n",
      "Processing Record 41 of Set 8 | Nieuw Amsterdam\n",
      "Processing Record 42 of Set 8 | Radishchevo\n",
      "Processing Record 43 of Set 8 | Kutum\n",
      "Processing Record 44 of Set 8 | Ust'-Ishim\n",
      "Processing Record 45 of Set 8 | Port Hardy\n",
      "Processing Record 0 of Set 9 | Kurilsk\n",
      "City not found. Skipping...\n",
      "Processing Record 1 of Set 9 | Arlit\n",
      "Processing Record 2 of Set 9 | Port Alfred\n",
      "Processing Record 3 of Set 9 | Omsukchan\n",
      "Processing Record 4 of Set 9 | Pontianak\n",
      "Processing Record 5 of Set 9 | Ulaangom\n",
      "Processing Record 6 of Set 9 | Tura\n",
      "Processing Record 7 of Set 9 | Mandan\n",
      "Processing Record 8 of Set 9 | Shihezi\n",
      "Processing Record 9 of Set 9 | Airai\n",
      "Processing Record 10 of Set 9 | Cocobeach\n"
     ]
    },
    {
     "name": "stdout",
     "output_type": "stream",
     "text": [
      "Processing Record 11 of Set 9 | San Patricio\n",
      "Processing Record 12 of Set 9 | Auki\n",
      "Processing Record 13 of Set 9 | Redencao\n",
      "Processing Record 14 of Set 9 | Normal\n",
      "Processing Record 15 of Set 9 | Port Elizabeth\n",
      "Processing Record 16 of Set 9 | Vardo\n",
      "Processing Record 17 of Set 9 | Muros\n",
      "Processing Record 18 of Set 9 | Pasinler\n",
      "Processing Record 19 of Set 9 | Vagur\n",
      "Processing Record 20 of Set 9 | Lambarene\n",
      "Processing Record 21 of Set 9 | Cortes\n",
      "Processing Record 22 of Set 9 | Tautira\n",
      "Processing Record 23 of Set 9 | Noumea\n",
      "Processing Record 24 of Set 9 | Provideniya\n",
      "Processing Record 25 of Set 9 | Flin Flon\n",
      "Processing Record 26 of Set 9 | Ust'-Omchug\n",
      "Processing Record 27 of Set 9 | Umm Kaddadah\n",
      "Processing Record 28 of Set 9 | Saldanha\n",
      "Processing Record 29 of Set 9 | Ugoofaaru\n",
      "Processing Record 30 of Set 9 | Oistins\n",
      "Processing Record 31 of Set 9 | Havelock\n",
      "Processing Record 32 of Set 9 | Aranos\n",
      "Processing Record 33 of Set 9 | Kulhudhuffushi\n",
      "Processing Record 34 of Set 9 | Jalu\n",
      "Processing Record 35 of Set 9 | Biscarrosse\n",
      "Processing Record 36 of Set 9 | Boende\n",
      "Processing Record 37 of Set 9 | Hofn\n",
      "Processing Record 38 of Set 9 | Berlevag\n",
      "Processing Record 39 of Set 9 | Popondetta\n",
      "Processing Record 40 of Set 9 | Wajir\n",
      "Processing Record 41 of Set 9 | Oksfjord\n",
      "Processing Record 42 of Set 9 | Beisfjord\n",
      "Processing Record 43 of Set 9 | Reinosa\n",
      "Processing Record 44 of Set 9 | Maningrida\n",
      "City not found. Skipping...\n",
      "Processing Record 45 of Set 9 | Laas\n",
      "City not found. Skipping...\n",
      "Processing Record 46 of Set 9 | Hithadhoo\n",
      "Processing Record 0 of Set 10 | Dicabisagan\n",
      "Processing Record 1 of Set 10 | Volchikha\n",
      "Processing Record 2 of Set 10 | Sassandra\n",
      "Processing Record 3 of Set 10 | Sangar\n",
      "Processing Record 4 of Set 10 | Tongliao\n",
      "Processing Record 5 of Set 10 | Mehamn\n",
      "Processing Record 6 of Set 10 | Sao Jose da Coroa Grande\n",
      "Processing Record 7 of Set 10 | Vao\n",
      "Processing Record 8 of Set 10 | Pachelma\n",
      "Processing Record 9 of Set 10 | Seoul\n",
      "Processing Record 10 of Set 10 | Galle\n",
      "Processing Record 11 of Set 10 | Shingu\n",
      "Processing Record 12 of Set 10 | Camana\n",
      "Processing Record 13 of Set 10 | Yenagoa\n",
      "Processing Record 14 of Set 10 | Timbiqui\n",
      "Processing Record 15 of Set 10 | Ternate\n",
      "Processing Record 16 of Set 10 | Askino\n",
      "Processing Record 17 of Set 10 | Manjo\n",
      "Processing Record 18 of Set 10 | Brigantine\n",
      "Processing Record 19 of Set 10 | Saint-Prosper\n",
      "Processing Record 20 of Set 10 | Sorsk\n",
      "Processing Record 21 of Set 10 | Noshiro\n",
      "Processing Record 22 of Set 10 | Lyantonde\n",
      "Processing Record 23 of Set 10 | Qasigiannguit\n",
      "Processing Record 24 of Set 10 | La Crosse\n",
      "Processing Record 25 of Set 10 | Chara\n",
      "Processing Record 26 of Set 10 | Umm Lajj\n",
      "Processing Record 27 of Set 10 | Petropavlovsk-Kamchatsky\n",
      "Processing Record 28 of Set 10 | Buraidah\n",
      "Processing Record 29 of Set 10 | Nioro\n",
      "Processing Record 30 of Set 10 | Yarmouth\n",
      "Processing Record 31 of Set 10 | Linxia\n",
      "Processing Record 32 of Set 10 | Ajdabiya\n",
      "City not found. Skipping...\n",
      "Processing Record 33 of Set 10 | Nishihara\n",
      "Processing Record 34 of Set 10 | Fare\n",
      "City not found. Skipping...\n",
      "Processing Record 35 of Set 10 | Venado Tuerto\n",
      "Processing Record 36 of Set 10 | Alofi\n",
      "Processing Record 37 of Set 10 | Moultrie\n",
      "Processing Record 38 of Set 10 | Inirida\n",
      "Processing Record 39 of Set 10 | Kerrville\n",
      "Processing Record 40 of Set 10 | Beringovskiy\n",
      "Processing Record 41 of Set 10 | Guaymas\n",
      "Processing Record 42 of Set 10 | Katsuura\n",
      "Processing Record 43 of Set 10 | Belyy Yar\n",
      "Processing Record 44 of Set 10 | Bilma\n",
      "Processing Record 45 of Set 10 | Bathurst\n",
      "Processing Record 46 of Set 10 | Kropotkin\n",
      "Processing Record 47 of Set 10 | Ilebo\n",
      "Processing Record 0 of Set 11 | Nalut\n",
      "Processing Record 1 of Set 11 | Xining\n",
      "Processing Record 2 of Set 11 | Kaeo\n",
      "Processing Record 3 of Set 11 | Hobyo\n",
      "Processing Record 4 of Set 11 | San Bartolome de Tirajana\n",
      "Processing Record 5 of Set 11 | Madang\n",
      "Processing Record 6 of Set 11 | Solano\n",
      "Processing Record 7 of Set 11 | Ilawa\n",
      "Processing Record 8 of Set 11 | Shellbrook\n",
      "City not found. Skipping...\n",
      "Processing Record 9 of Set 11 | Goure\n",
      "Processing Record 10 of Set 11 | Ust'-Shonosha\n",
      "Processing Record 11 of Set 11 | Ikalamavony\n",
      "Processing Record 12 of Set 11 | Wanaka\n",
      "Processing Record 13 of Set 11 | Caconda\n",
      "Processing Record 14 of Set 11 | Bereznik\n",
      "Processing Record 15 of Set 11 | Novomyrhorod\n",
      "Processing Record 16 of Set 11 | Homer\n",
      "Processing Record 17 of Set 11 | Anaco\n",
      "Processing Record 18 of Set 11 | Dingle\n",
      "Processing Record 19 of Set 11 | Burkburnett\n",
      "Processing Record 20 of Set 11 | Quelimane\n",
      "Processing Record 21 of Set 11 | Yerbogachen\n",
      "Processing Record 22 of Set 11 | Nabire\n",
      "Processing Record 23 of Set 11 | Darab\n",
      "Processing Record 24 of Set 11 | Canyon Lake\n",
      "Processing Record 25 of Set 11 | Patea\n",
      "Processing Record 26 of Set 11 | Atasu\n",
      "Processing Record 27 of Set 11 | Hammerfest\n",
      "Processing Record 28 of Set 11 | Tamiahua\n",
      "Processing Record 29 of Set 11 | Usinsk\n",
      "City not found. Skipping...\n",
      "Processing Record 30 of Set 11 | Sobolevo\n",
      "Processing Record 31 of Set 11 | Kattivakkam\n",
      "Processing Record 32 of Set 11 | Yazd\n",
      "Processing Record 33 of Set 11 | Sarakhs\n",
      "Processing Record 34 of Set 11 | Adrar\n",
      "Processing Record 35 of Set 11 | North Bend\n",
      "Processing Record 36 of Set 11 | Baturyn\n",
      "Processing Record 37 of Set 11 | Belaya Gora\n",
      "City not found. Skipping...\n",
      "Processing Record 38 of Set 11 | Abbeville\n",
      "Processing Record 39 of Set 11 | Sinegorye\n",
      "Processing Record 40 of Set 11 | Arrondissement de Bastia\n",
      "Processing Record 41 of Set 11 | Awjilah\n",
      "Processing Record 42 of Set 11 | Gibara\n",
      "Processing Record 43 of Set 11 | Joenkoeping\n",
      "Processing Record 44 of Set 11 | Cabo Rojo\n",
      "Processing Record 45 of Set 11 | Troitskoye\n",
      "City not found. Skipping...\n",
      "City not found. Skipping...\n",
      "Processing Record 46 of Set 11 | San Carlos\n",
      "Processing Record 47 of Set 11 | Sandy Bay\n",
      "Processing Record 48 of Set 11 | Puerto Baquerizo Moreno\n",
      "Processing Record 49 of Set 11 | Boulder City\n",
      "Processing Record 50 of Set 11 | Saint Anthony\n",
      "City not found. Skipping...\n",
      "City not found. Skipping...\n",
      "Processing Record 51 of Set 11 | Shimoda\n",
      "Processing Record 52 of Set 11 | Langsa\n",
      "Processing Record 53 of Set 11 | Udpura\n",
      "Processing Record 54 of Set 11 | Conceicao da Barra\n",
      "Processing Record 55 of Set 11 | Kivsharivka\n",
      "City not found. Skipping...\n",
      "Processing Record 56 of Set 11 | Naze\n",
      "Processing Record 57 of Set 11 | Mayo\n",
      "Processing Record 58 of Set 11 | Sioux Lookout\n",
      "Processing Record 59 of Set 11 | Paita\n",
      "City not found. Skipping...\n",
      "Processing Record 60 of Set 11 | Meridian\n",
      "Processing Record 61 of Set 11 | Parabel\n",
      "Processing Record 62 of Set 11 | Lamar\n",
      "Processing Record 63 of Set 11 | Provincia di Lecce\n",
      "Processing Record 64 of Set 11 | Alice Springs\n",
      "Processing Record 65 of Set 11 | Guhagar\n",
      "Processing Record 66 of Set 11 | Casablanca\n",
      "Processing Record 67 of Set 11 | Kruisfontein\n",
      "Processing Record 68 of Set 11 | Telde\n",
      "Processing Record 69 of Set 11 | Bani Walid\n",
      "Processing Record 70 of Set 11 | Gweta\n",
      "Processing Record 71 of Set 11 | Zlobin\n",
      "Processing Record 72 of Set 11 | General Cepeda\n",
      "Processing Record 73 of Set 11 | Carutapera\n",
      "Processing Record 74 of Set 11 | 'Ahuimanu\n",
      "Processing Record 75 of Set 11 | Ranapur\n",
      "Processing Record 76 of Set 11 | Maniitsoq\n",
      "Processing Record 77 of Set 11 | Aguimes\n",
      "Processing Record 78 of Set 11 | Constitucion\n",
      "Processing Record 79 of Set 11 | Santiago del Estero\n",
      "Processing Record 80 of Set 11 | Playas\n",
      "Processing Record 81 of Set 11 | Shobara\n",
      "Processing Record 82 of Set 11 | Chernyshevskiy\n",
      "Processing Record 83 of Set 11 | Santa Maria\n",
      "Processing Record 84 of Set 11 | Srivardhan\n",
      "Processing Record 85 of Set 11 | Coxim\n",
      "Processing Record 86 of Set 11 | Whitehorse\n",
      "Processing Record 87 of Set 11 | Tahta\n",
      "Processing Record 88 of Set 11 | Ekimchan\n",
      "Processing Record 89 of Set 11 | Cairns\n",
      "Processing Record 90 of Set 11 | Kasongo\n",
      "Processing Record 0 of Set 12 | Worcester\n",
      "Processing Record 1 of Set 12 | Tevaitoa\n",
      "Processing Record 2 of Set 12 | Ballina\n",
      "Processing Record 3 of Set 12 | Arrifes\n",
      "Processing Record 4 of Set 12 | Mount Isa\n",
      "City not found. Skipping...\n",
      "Processing Record 5 of Set 12 | Nacala\n",
      "Processing Record 6 of Set 12 | Bariloche\n",
      "City not found. Skipping...\n",
      "Processing Record 7 of Set 12 | Dunmore Town\n",
      "Processing Record 8 of Set 12 | San Miguel de Tucuman\n",
      "Processing Record 9 of Set 12 | Abnub\n",
      "Processing Record 10 of Set 12 | Ambanja\n",
      "Processing Record 11 of Set 12 | Chumikan\n"
     ]
    },
    {
     "name": "stdout",
     "output_type": "stream",
     "text": [
      "Processing Record 12 of Set 12 | Iquique\n",
      "Processing Record 13 of Set 12 | Marquette\n",
      "Processing Record 14 of Set 12 | Fort Saint James\n",
      "Processing Record 15 of Set 12 | Rudnogorsk\n",
      "Processing Record 16 of Set 12 | Nizwa\n",
      "Processing Record 17 of Set 12 | Hachinohe\n",
      "City not found. Skipping...\n",
      "Processing Record 18 of Set 12 | Tupiza\n",
      "Processing Record 19 of Set 12 | Peterhead\n",
      "Processing Record 20 of Set 12 | Manhattan\n",
      "Processing Record 21 of Set 12 | Mandalgovi\n",
      "Processing Record 22 of Set 12 | Madisonville\n",
      "Processing Record 23 of Set 12 | Portland\n",
      "Processing Record 24 of Set 12 | Te Anau\n",
      "Processing Record 25 of Set 12 | Pringsewu\n",
      "Processing Record 26 of Set 12 | Mersa Matruh\n",
      "Processing Record 27 of Set 12 | Bago\n",
      "Processing Record 28 of Set 12 | Assiniboia\n",
      "Processing Record 29 of Set 12 | Bubaque\n",
      "Processing Record 30 of Set 12 | College\n",
      "Processing Record 31 of Set 12 | Kvitok\n",
      "Processing Record 32 of Set 12 | Lucapa\n",
      "Processing Record 33 of Set 12 | Methoni\n",
      "Processing Record 34 of Set 12 | Ciudad Bolivar\n",
      "Processing Record 35 of Set 12 | Lipovtsy\n",
      "Processing Record 36 of Set 12 | Biskamzha\n",
      "Processing Record 37 of Set 12 | Manbij\n",
      "-----------------------------\n",
      "Data Retrieval Complete\n",
      "-----------------------------\n"
     ]
    }
   ],
   "source": [
    "# Create empty lists to append the API data into\n",
    "city_name = []\n",
    "cloudiness = []\n",
    "country = []\n",
    "date = []\n",
    "humidity = []\n",
    "lat = []\n",
    "lng = []\n",
    "max_temp = []\n",
    "wind_speed = []\n",
    "\n",
    "# Start the call counter \n",
    "record = 1\n",
    "set_count = 1\n",
    "\n",
    "# Log file print statement\n",
    "print(f\"Beginning Data Retrieval\")\n",
    "print(f\"-----------------------------\")\n",
    "\n",
    "#Loop through the cities in the city list \n",
    "for i, city in enumerate(cities):  \n",
    "    \n",
    "    # Try statement to append calls where value is found \n",
    "    # Not all calls return data as OpenWeatherMap will not have have records in all the cities generated by CityPy module\n",
    "    try: \n",
    "        response = requests.get(f\"{url}&q={city}\").json() \n",
    "        city_name.append(response[\"name\"])\n",
    "        cloudiness.append(response[\"clouds\"][\"all\"])\n",
    "        country.append(response[\"sys\"][\"country\"])\n",
    "        date.append(response[\"dt\"])\n",
    "        humidity.append(response[\"main\"][\"humidity\"])\n",
    "        max_temp.append(response[\"main\"][\"temp_max\"])\n",
    "        lat.append(response[\"coord\"][\"lat\"])\n",
    "        lng.append(response[\"coord\"][\"lon\"])\n",
    "        wind_speed.append(response[\"wind\"][\"speed\"])\n",
    "        city_record = response[\"name\"]\n",
    "        \n",
    "        if(i%50==0 and i>=50):\n",
    "            record = 0\n",
    "            set_count+=1\n",
    "            \n",
    "        print(f\"Processing Record {record} of Set {set_count} | {city_record}\")\n",
    "        #print(f\"{url}&q={city}\")\n",
    "        \n",
    "        # Increase counter by one \n",
    "        record= record + 1\n",
    "        \n",
    "        # Wait a second in loop to not over exceed rate limit of API\n",
    "#         time.sleep(1.01)\n",
    "        \n",
    "    # If no record found \"skip\" to next call\n",
    "    except:\n",
    "        print(\"City not found. Skipping...\")\n",
    "    continue\n",
    "    \n",
    "print(f\"-----------------------------\")\n",
    "print(f\"Data Retrieval Complete\")\n",
    "print(f\"-----------------------------\")"
   ]
  },
  {
   "cell_type": "markdown",
   "metadata": {},
   "source": [
    "### Convert Raw Data to DataFrame\n",
    "* Export the city data into a .csv.\n",
    "* Display the DataFrame"
   ]
  },
  {
   "cell_type": "code",
   "execution_count": 10,
   "metadata": {
    "scrolled": true
   },
   "outputs": [
    {
     "data": {
      "text/plain": [
       "City          586\n",
       "Cloudiness    586\n",
       "Country       586\n",
       "Date          586\n",
       "Humidity      586\n",
       "Lat           586\n",
       "Lng           586\n",
       "Max Temp      586\n",
       "Wind Speed    586\n",
       "dtype: int64"
      ]
     },
     "execution_count": 10,
     "metadata": {},
     "output_type": "execute_result"
    }
   ],
   "source": [
    "# Create a dictonary with the lists generated\n",
    "weatherpy_dict = {\n",
    "    \"City\": city_name,\n",
    "    \"Cloudiness\":cloudiness, \n",
    "    \"Country\":country,\n",
    "    \"Date\":date, \n",
    "    \"Humidity\": humidity,\n",
    "    \"Lat\":lat, \n",
    "    \"Lng\":lng, \n",
    "    \"Max Temp\": max_temp,\n",
    "    \"Wind Speed\":wind_speed\n",
    "}\n",
    "\n",
    "# Create a data frame from dictionary\n",
    "weather_data = pd.DataFrame(weatherpy_dict)\n",
    "\n",
    "# Display count of weather data values \n",
    "weather_data.count()"
   ]
  },
  {
   "cell_type": "code",
   "execution_count": 11,
   "metadata": {},
   "outputs": [
    {
     "data": {
      "text/html": [
       "<div>\n",
       "<style scoped>\n",
       "    .dataframe tbody tr th:only-of-type {\n",
       "        vertical-align: middle;\n",
       "    }\n",
       "\n",
       "    .dataframe tbody tr th {\n",
       "        vertical-align: top;\n",
       "    }\n",
       "\n",
       "    .dataframe thead th {\n",
       "        text-align: right;\n",
       "    }\n",
       "</style>\n",
       "<table border=\"1\" class=\"dataframe\">\n",
       "  <thead>\n",
       "    <tr style=\"text-align: right;\">\n",
       "      <th></th>\n",
       "      <th>City</th>\n",
       "      <th>Cloudiness</th>\n",
       "      <th>Country</th>\n",
       "      <th>Date</th>\n",
       "      <th>Humidity</th>\n",
       "      <th>Lat</th>\n",
       "      <th>Lng</th>\n",
       "      <th>Max Temp</th>\n",
       "      <th>Wind Speed</th>\n",
       "    </tr>\n",
       "  </thead>\n",
       "  <tbody>\n",
       "    <tr>\n",
       "      <td>0</td>\n",
       "      <td>East London</td>\n",
       "      <td>61</td>\n",
       "      <td>ZA</td>\n",
       "      <td>1579824903</td>\n",
       "      <td>78</td>\n",
       "      <td>-33.02</td>\n",
       "      <td>27.91</td>\n",
       "      <td>68.25</td>\n",
       "      <td>13.00</td>\n",
       "    </tr>\n",
       "    <tr>\n",
       "      <td>1</td>\n",
       "      <td>Salalah</td>\n",
       "      <td>75</td>\n",
       "      <td>OM</td>\n",
       "      <td>1579824978</td>\n",
       "      <td>78</td>\n",
       "      <td>17.02</td>\n",
       "      <td>54.09</td>\n",
       "      <td>75.20</td>\n",
       "      <td>2.24</td>\n",
       "    </tr>\n",
       "    <tr>\n",
       "      <td>2</td>\n",
       "      <td>Udachny</td>\n",
       "      <td>75</td>\n",
       "      <td>RU</td>\n",
       "      <td>1579824979</td>\n",
       "      <td>65</td>\n",
       "      <td>66.42</td>\n",
       "      <td>112.40</td>\n",
       "      <td>-38.20</td>\n",
       "      <td>6.71</td>\n",
       "    </tr>\n",
       "    <tr>\n",
       "      <td>3</td>\n",
       "      <td>Husavik</td>\n",
       "      <td>90</td>\n",
       "      <td>IS</td>\n",
       "      <td>1579824979</td>\n",
       "      <td>86</td>\n",
       "      <td>66.04</td>\n",
       "      <td>-17.34</td>\n",
       "      <td>26.60</td>\n",
       "      <td>35.57</td>\n",
       "    </tr>\n",
       "    <tr>\n",
       "      <td>4</td>\n",
       "      <td>Guerrero Negro</td>\n",
       "      <td>0</td>\n",
       "      <td>MX</td>\n",
       "      <td>1579824979</td>\n",
       "      <td>48</td>\n",
       "      <td>27.98</td>\n",
       "      <td>-114.06</td>\n",
       "      <td>69.21</td>\n",
       "      <td>11.30</td>\n",
       "    </tr>\n",
       "  </tbody>\n",
       "</table>\n",
       "</div>"
      ],
      "text/plain": [
       "             City  Cloudiness Country        Date  Humidity    Lat     Lng  \\\n",
       "0     East London          61      ZA  1579824903        78 -33.02   27.91   \n",
       "1         Salalah          75      OM  1579824978        78  17.02   54.09   \n",
       "2         Udachny          75      RU  1579824979        65  66.42  112.40   \n",
       "3         Husavik          90      IS  1579824979        86  66.04  -17.34   \n",
       "4  Guerrero Negro           0      MX  1579824979        48  27.98 -114.06   \n",
       "\n",
       "   Max Temp  Wind Speed  \n",
       "0     68.25       13.00  \n",
       "1     75.20        2.24  \n",
       "2    -38.20        6.71  \n",
       "3     26.60       35.57  \n",
       "4     69.21       11.30  "
      ]
     },
     "execution_count": 11,
     "metadata": {},
     "output_type": "execute_result"
    }
   ],
   "source": [
    "# Save data frame to CSV\n",
    "weather_data.to_csv('weather_data.csv')\n",
    "\n",
    "# Display data frame head \n",
    "weather_data.head()"
   ]
  },
  {
   "cell_type": "markdown",
   "metadata": {},
   "source": [
    "### Plotting the Data\n",
    "* Use proper labeling of the plots using plot titles (including date of analysis) and axes labels.\n",
    "* Save the plotted figures as .pngs."
   ]
  },
  {
   "cell_type": "markdown",
   "metadata": {},
   "source": [
    "#### Latitude vs. Temperature Plot"
   ]
  },
  {
   "cell_type": "code",
   "execution_count": 12,
   "metadata": {
    "scrolled": false
   },
   "outputs": [
    {
     "data": {
      "image/png": "[encoded data removed]",
      "text/plain": [
       "<Figure size 432x288 with 1 Axes>"
      ]
     },
     "metadata": {
      "needs_background": "light"
     },
     "output_type": "display_data"
    }
   ],
   "source": [
    "# Build a scatter plot for each data type\n",
    "plt.scatter(weather_data[\"Lat\"], weather_data[\"Max Temp\"], marker=\"o\", s=10)\n",
    "\n",
    "# Incorporate the other graph properties\n",
    "plt.title(\"City Latitude vs. Max Temperature\")\n",
    "plt.ylabel(\"Max. Temperature (F)\")\n",
    "plt.xlabel(\"Latitude\")\n",
    "plt.grid(True)\n",
    "\n",
    "# Save the figure\n",
    "#plt.savefig(\"Output_Plots/Max_Temp_vs_Latitude.png\")\n",
    "\n",
    "# Show plot\n",
    "plt.show()"
   ]
  },
  {
   "cell_type": "markdown",
   "metadata": {},
   "source": [
    "#### Latitude vs. Humidity Plot"
   ]
  },
  {
   "cell_type": "code",
   "execution_count": 13,
   "metadata": {},
   "outputs": [
    {
     "data": {
      "image/png": "[encoded data removed]",
      "text/plain": [
       "<Figure size 432x288 with 1 Axes>"
      ]
     },
     "metadata": {
      "needs_background": "light"
     },
     "output_type": "display_data"
    }
   ],
   "source": [
    "# Build a scatter plot for each data type\n",
    "plt.scatter(weather_data[\"Lat\"], weather_data[\"Humidity\"], marker=\"o\", s=10)\n",
    "\n",
    "# Incorporate the other graph properties\n",
    "plt.title(\"City Latitude vs. Humidity\")\n",
    "plt.ylabel(\"Humidity (%)\")\n",
    "plt.xlabel(\"Latitude\")\n",
    "plt.grid(True)\n",
    "\n",
    "# Save the figure\n",
    "#plt.savefig(\"Output_Plots/Humidity_vs_Latitude.png\")\n",
    "\n",
    "# Show plot\n",
    "plt.show()"
   ]
  },
  {
   "cell_type": "markdown",
   "metadata": {},
   "source": [
    "#### Latitude vs. Cloudiness Plot"
   ]
  },
  {
   "cell_type": "code",
   "execution_count": 14,
   "metadata": {},
   "outputs": [
    {
     "data": {
      "image/png": "[encoded data removed]",
      "text/plain": [
       "<Figure size 432x288 with 1 Axes>"
      ]
     },
     "metadata": {
      "needs_background": "light"
     },
     "output_type": "display_data"
    }
   ],
   "source": [
    "# Build a scatter plot for each data type\n",
    "plt.scatter(weather_data[\"Lat\"], weather_data[\"Cloudiness\"], marker=\"o\", s=10)\n",
    "\n",
    "# Incorporate the other graph properties\n",
    "plt.title(\"City Latitude vs. Cloudiness\")\n",
    "plt.ylabel(\"Cloudiness (%)\")\n",
    "plt.xlabel(\"Latitude\")\n",
    "plt.grid(True)\n",
    "\n",
    "# Save the figure\n",
    "#plt.savefig(\"Output_Plots/Cloudiness_vs_Latitude.png\")\n",
    "\n",
    "# Show plot\n",
    "plt.show()"
   ]
  },
  {
   "cell_type": "markdown",
   "metadata": {},
   "source": [
    "#### Latitude vs. Wind Speed Plot"
   ]
  },
  {
   "cell_type": "code",
   "execution_count": 15,
   "metadata": {
    "scrolled": false
   },
   "outputs": [
    {
     "data": {
      "image/png": "[encoded data removed]",
      "text/plain": [
       "<Figure size 432x288 with 1 Axes>"
      ]
     },
     "metadata": {
      "needs_background": "light"
     },
     "output_type": "display_data"
    }
   ],
   "source": [
    "# Build a scatter plot for each data type\n",
    "plt.scatter(weather_data[\"Lat\"], weather_data[\"Wind Speed\"], marker=\"o\", s=10)\n",
    "\n",
    "# Incorporate the other graph properties\n",
    "plt.title(\"City Latitude vs. Wind Speed\")\n",
    "plt.ylabel(\"Wind Speed (mph)\")\n",
    "plt.xlabel(\"Latitude\")\n",
    "plt.grid(True)\n",
    "\n",
    "# Save the figure\n",
    "#plt.savefig(\"Output_Plots/Wind_Speed_vs_Latitude.png\")\n",
    "\n",
    "# Show plot\n",
    "plt.show()"
   ]
  },
  {
   "cell_type": "markdown",
   "metadata": {},
   "source": [
    "## Linear Regression"
   ]
  },
  {
   "cell_type": "code",
   "execution_count": 16,
   "metadata": {
    "scrolled": true
   },
   "outputs": [],
   "source": [
    "# OPTIONAL: Create a function to create Linear Regression plots\n",
    "#locate the data with a latitude value equal to or greater than 0 for northern hemisphere\n",
    "north_hem = weather_data.loc[weather_data['Lat'] >= 0]\n",
    "#locate the data with a latitude value less than 0 for southern hemisphere\n",
    "south_hem = weather_data.loc[weather_data['Lat'] < 0]"
   ]
  },
  {
   "cell_type": "code",
   "execution_count": 17,
   "metadata": {},
   "outputs": [],
   "source": [
    "# Create Northern and Southern Hemisphere DataFrames\n",
    "#pull individual column data for scatter plots based on hemisphere\n",
    "north_temp = north_hem['Max Temp']\n",
    "south_temp = south_hem['Max Temp']\n",
    "north_lat = north_hem['Lat']\n",
    "south_lat = south_hem['Lat']\n",
    "north_humid = north_hem['Humidity']\n",
    "south_humid = south_hem['Humidity']\n",
    "north_clouds = north_hem['Cloudiness']\n",
    "south_clouds = south_hem['Cloudiness']\n",
    "north_wind = north_hem['Wind Speed']\n",
    "south_wind = south_hem['Wind Speed']"
   ]
  },
  {
   "cell_type": "markdown",
   "metadata": {},
   "source": [
    "####  Northern Hemisphere - Max Temp vs. Latitude Linear Regression"
   ]
  },
  {
   "cell_type": "code",
   "execution_count": 22,
   "metadata": {
    "scrolled": true
   },
   "outputs": [
    {
     "name": "stdout",
     "output_type": "stream",
     "text": [
      "The r-squared is: -0.8400559925067062\n"
     ]
    },
    {
     "data": {
      "image/png": "[encoded data removed]",
      "text/plain": [
       "<Figure size 432x288 with 1 Axes>"
      ]
     },
     "metadata": {
      "needs_background": "light"
     },
     "output_type": "display_data"
    }
   ],
   "source": [
    "(slope, intercept, rvalue, pvalue, stderr) = linregress(north_lat, north_temp)\n",
    "regress_values = north_lat * slope + intercept\n",
    "line_eq = 'y = ' + str(round(slope,2)) + 'x + ' + str(round(intercept,2))\n",
    "plt.scatter(north_lat, north_temp, marker='o', s=10)\n",
    "plt.plot(north_lat, regress_values, 'r-')\n",
    "plt.annotate(line_eq,(6,10), fontsize=10, color='red')\n",
    "plt.title('Northern Hemisphere Latitude vs Max Temp')\n",
    "plt.xlabel('Latitude')\n",
    "plt.ylabel('Max Temp')\n",
    "print(f'The r-squared is: {rvalue}')\n",
    "plt.savefig('output_data/nhlvmt.png')"
   ]
  },
  {
   "cell_type": "markdown",
   "metadata": {},
   "source": [
    "####  Southern Hemisphere - Max Temp vs. Latitude Linear Regression"
   ]
  },
  {
   "cell_type": "code",
   "execution_count": 27,
   "metadata": {},
   "outputs": [
    {
     "name": "stdout",
     "output_type": "stream",
     "text": [
      "The r-squared is: 0.36988399485875106\n"
     ]
    },
    {
     "data": {
      "image/png": "[encoded data removed]",
      "text/plain": [
       "<Figure size 432x288 with 1 Axes>"
      ]
     },
     "metadata": {
      "needs_background": "light"
     },
     "output_type": "display_data"
    }
   ],
   "source": [
    "(slope, intercept, rvalue, pvalue, stderr) = linregress(south_lat, south_temp)\n",
    "regress_values = south_lat * slope + intercept\n",
    "line_eq = 'y = ' + str(round(slope,2)) + 'x + ' + str(round(intercept,2))\n",
    "plt.scatter(south_lat, south_temp, marker='o', s=10)\n",
    "plt.plot(south_lat, regress_values, 'r-')\n",
    "plt.annotate(line_eq,(6,10), fontsize=10, color='red')\n",
    "plt.title('Southern Hemisphere Max Temp vs. Latitude Linear Regression')\n",
    "plt.xlabel('Latitude')\n",
    "plt.ylabel('Max Temp')\n",
    "print(f'The r-squared is: {rvalue}')\n",
    "plt.savefig('output_data/shlvmt.png')"
   ]
  },
  {
   "cell_type": "markdown",
   "metadata": {},
   "source": [
    "####  Northern Hemisphere - Humidity (%) vs. Latitude Linear Regression"
   ]
  },
  {
   "cell_type": "code",
   "execution_count": null,
   "metadata": {},
   "outputs": [],
   "source": []
  },
  {
   "cell_type": "markdown",
   "metadata": {},
   "source": [
    "####  Southern Hemisphere - Humidity (%) vs. Latitude Linear Regression"
   ]
  },
  {
   "cell_type": "code",
   "execution_count": null,
   "metadata": {},
   "outputs": [],
   "source": []
  },
  {
   "cell_type": "markdown",
   "metadata": {},
   "source": [
    "####  Northern Hemisphere - Cloudiness (%) vs. Latitude Linear Regression"
   ]
  },
  {
   "cell_type": "code",
   "execution_count": null,
   "metadata": {},
   "outputs": [],
   "source": []
  },
  {
   "cell_type": "markdown",
   "metadata": {},
   "source": [
    "####  Southern Hemisphere - Cloudiness (%) vs. Latitude Linear Regression"
   ]
  },
  {
   "cell_type": "code",
   "execution_count": null,
   "metadata": {},
   "outputs": [],
   "source": []
  },
  {
   "cell_type": "markdown",
   "metadata": {},
   "source": [
    "####  Northern Hemisphere - Wind Speed (mph) vs. Latitude Linear Regression"
   ]
  },
  {
   "cell_type": "code",
   "execution_count": null,
   "metadata": {},
   "outputs": [],
   "source": []
  },
  {
   "cell_type": "markdown",
   "metadata": {},
   "source": [
    "####  Southern Hemisphere - Wind Speed (mph) vs. Latitude Linear Regression"
   ]
  },
  {
   "cell_type": "code",
   "execution_count": null,
   "metadata": {
    "scrolled": true
   },
   "outputs": [],
   "source": []
  },
  {
   "cell_type": "code",
   "execution_count": null,
   "metadata": {},
   "outputs": [],
   "source": []
  }
 ],
 "metadata": {
  "anaconda-cloud": {},
  "kernel_info": {
   "name": "python3"
  },
  "kernelspec": {
   "display_name": "Python 3",
   "language": "python",
   "name": "python3"
  },
  "language_info": {
   "codemirror_mode": {
    "name": "ipython",
    "version": 3
   },
   "file_extension": ".py",
   "mimetype": "text/x-python",
   "name": "python",
   "nbconvert_exporter": "python",
   "pygments_lexer": "ipython3",
   "version": "3.7.4"
  },
  "latex_envs": {
   "LaTeX_envs_menu_present": true,
   "autoclose": false,
   "autocomplete": true,
   "bibliofile": "biblio.bib",
   "cite_by": "apalike",
   "current_citInitial": 1,
   "eqLabelWithNumbers": true,
   "eqNumInitial": 1,
   "hotkeys": {
    "equation": "Ctrl-E",
    "itemize": "Ctrl-I"
   },
   "labels_anchors": false,
   "latex_user_defs": false,
   "report_style_numbering": false,
   "user_envs_cfg": false
  },
  "nteract": {
   "version": "0.12.3"
  }
 },
 "nbformat": 4,
 "nbformat_minor": 2
}
